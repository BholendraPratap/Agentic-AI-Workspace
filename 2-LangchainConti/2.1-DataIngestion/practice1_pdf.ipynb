{
 "cells": [
  {
   "cell_type": "code",
   "execution_count": 1,
   "metadata": {},
   "outputs": [],
   "source": [
    "#CREATING THE ENVIRONMENT OF API\n",
    "import os\n",
    "from dotenv import load_dotenv\n",
    "load_dotenv()\n",
    "\n",
    "os.environ['GROQ_API_KEY']=os.getenv(\"GROQ_API_KEY\")\n",
    "## Langsmith Tracking\n",
    "os.environ[\"LANGCHAIN_API_KEY\"]=os.getenv(\"LANGCHAIN_API_KEY\")\n",
    "os.environ[\"LANGCHAIN_TRACING_V2\"]=\"true\"\n",
    "os.environ[\"LANGCHAIN_PROJECT\"]=os.getenv(\"LANGCHAIN_PROJECT\")"
   ]
  },
  {
   "cell_type": "markdown",
   "metadata": {},
   "source": [
    "## loading the PDF"
   ]
  },
  {
   "cell_type": "code",
   "execution_count": 2,
   "metadata": {},
   "outputs": [
    {
     "data": {
      "text/plain": [
       "[Document(metadata={'source': 'syllabus.pdf', 'page': 0, 'page_label': '1'}, page_content='MACHINE\\nLEARNING\\nDEEP\\nLEARNING\\nPYTHON +\\nSTATS\\nCOMPUTER VISIONNATURAL LANGUAGE PROCESSING\\nGENERATIVE AI\\nRETRIEVAL AUGUMENT GENERATION\\nVECTOR DB'),\n",
       " Document(metadata={'source': 'syllabus.pdf', 'page': 1, 'page_label': '2'}, page_content='This course is designed for aspiring data scientists, machine learning enthusiasts, and\\nprofessionals looking to build expertise in Python programming, data analysis, machine learning,\\nand deep learning. Whether you are just starting or have some experience, this comprehensive\\ncourse will equip you with the skills needed to work with real-world datasets, apply machine\\nlearning algorithms, and deploy AI solutions. By the end of the course, you’ll have a solid\\nfoundation in AI, a portfolio of end-to-end projects, and the confidence to tackle complex\\nchallenges in data science and AI.\\nLearning Objectives\\nMaster Python Programming: Understand Python fundamentals, including data types,\\ncontrol structures, and object-oriented programming, to write efficient and reusable\\ncode.\\nHandle Data with Pandas and NumPy: Acquire skills to manipulate, clean, and\\npreprocess large datasets using Pandas and NumPy for data analysis tasks.\\nVisualize Data: Create compelling data visualizations using libraries such as Matplotlib,\\nSeaborn, and Plotly to present insights effectively.\\nUnderstand SQL & NoSQL: Gain expertise in both relational (SQL) and non-relational\\n(NoSQL) databases, including MongoDB, for storing, querying, and managing data.\\nGrasp Statistics and Probability: Understand the core concepts of statistics,\\nprobability, and hypothesis testing, applying them to data analysis and machine\\nlearning.\\nMaster Machine Learning Techniques: Learn key machine learning algorithms,\\nincluding supervised, unsupervised, and ensemble methods, and apply them to real-\\nworld problems.\\nDive into Deep Learning: Develop a strong understanding of neural networks, CNNs,\\nRNNs, and transformers, with hands-on implementation for advanced AI tasks.\\nExplore Generative AI & Vector Databases: Learn the concepts and applications of\\ngenerative models, vector databases, and retrieval-augmented generation to handle\\ncomplex AI systems.\\nBuild Real-World Projects: Implement end-to-end machine learning and AI projects,\\nfrom data preprocessing to model deployment, integrating concepts from multiple\\nmodules.\\nUltimate Data Science & GenAI Bootcamp       Page  2'),\n",
       " Document(metadata={'source': 'syllabus.pdf', 'page': 2, 'page_label': '3'}, page_content=\"Course Information\\nNo prerequisites are required for this course. The curriculum covers everything from the\\nbasics of Python programming, statistics, and machine learning to advanced topics in deep\\nlearning, NLP, and generative AI. Whether you're a beginner or have some prior experience,\\nthe course will ensure you gain the skills needed to succeed.\\nEstimated Time\\n8 months 6hrs/week*\\nRequired Skill Level\\nBegineer\\nThe course is designed to be completed over a duration of approximately 7 to 8 months, providing\\nan in-depth exploration from Python basics to GenAI, with plenty of time for practical\\nimplementation and real-world applications.\\nPrerequisites\\nUltimate Data Science & GenAI Bootcamp       Page  3\"),\n",
       " Document(metadata={'source': 'syllabus.pdf', 'page': 3, 'page_label': '4'}, page_content='Course Instructors\\nSunny SavitaGenAI Engineer\\nLinkedin\\nKrish NaikChief AI Engineer\\nLinkedin\\nUltimate Data Science & GenAI Bootcamp       Page  4\\nSourangshu PalSenior Data Scientist\\nLinkedin\\nMonal KumarData Scientist\\nLinkedin\\nMayank AggrawalSenior ML Engineer\\nLinkedin\\nDarius B.Head of Product\\nLinkedin'),\n",
       " Document(metadata={'source': 'syllabus.pdf', 'page': 4, 'page_label': '5'}, page_content=\"In this module, you’ll get a solid introduction to Python, covering essential programming concepts\\nsuch as variables, data types, operators, and control flow. You’ll learn how to manipulate strings,\\nlists, dictionaries, and other basic data structures. The module will also guide you through writing\\nsimple functions and using loops and conditionals effectively. By the end, you'll have a strong\\nunderstanding of Python syntax, preparing you to tackle more complex programming challenges\\nand form a foundation for learning advanced concepts.\\nUltimate Data Science & GenAI Bootcamp       Page  5\\nPython Foundations\\nModule 1\\nTopics\\nIntroduction to Python Comparison with other programming\\nlanguages, Python objects: Numbers,\\nBooleans, and Strings\\nData Structures & Operations Container objects and mutability,\\nOperators, Operator precedence and\\nassociativity\\nControl Flow Conditional statements, Loops, break\\nand continue statements\\nString Manipulation Basics of string objects, Inbuilt string\\nmethods, Splitting and joining strings,\\nString formatting functions\\nLists & Collections List methods, list comprehension, Lists as\\nstacks and queues, Tuples, sets, and\\ndictionaries, Dictionary comprehensions\\nand view objects\\n\"),\n",
       " Document(metadata={'source': 'syllabus.pdf', 'page': 5, 'page_label': '6'}, page_content='Topics\\nFunctions & Iterators Function basics and parameter passing,\\nIterators and generator functions,\\nLambda functions, map(), reduce(),\\nfilter()\\nPython Foundations\\nModule 1\\nUltimate Data Science & GenAI Bootcamp       Page  6'),\n",
       " Document(metadata={'source': 'syllabus.pdf', 'page': 6, 'page_label': '7'}, page_content='This module takes your Python skills further by diving into object-oriented programming (OOP)\\nconcepts like classes, inheritance, and polymorphism. You’ll also explore more advanced topics\\nsuch as decorators, lambda functions, iterators, and generator functions. Additionally, we cover\\nexception handling, file operations, and working with modules and libraries. By the end, you will be\\ncomfortable building more sophisticated Python applications and writing efficient, reusable code.\\nAdvanced Python Programming\\nModule 2\\nTopics\\nObject-Oriented Programming (OOP) OOP basics and class creation,\\nInheritance, Polymorphism,\\nEncapsulation, and Abstraction,\\nDecorators, class methods, and static\\nmethods, Special (Magic/Dunder)\\nmethods, Property decorators: Getters,\\nsetters, and delete methods\\nFile Handling & Logging Reading and writing files, Buffered read\\nand write operations, more file methods,\\nLogging and debugging\\nModules & Exception Handling Importing modules and using them\\neffectively, Exception handling\\nConcurrency & Parallelism Introduction to multithreading,\\nMultiprocessing for performance\\noptimization\\nUltimate Data Science & GenAI Bootcamp       Page  7'),\n",
       " Document(metadata={'source': 'syllabus.pdf', 'page': 7, 'page_label': '8'}, page_content='In this module, you will master the core aspects of data manipulation using Pandas. You’ll learn\\nhow to work with Series, DataFrames, and Panels, as well as perform data selection, filtering, and\\nsorting. The module covers critical tasks like handling missing data, reindexing, and applying\\nstatistical functions to datasets. You’ll also gain hands-on experience with data visualization and\\nadvanced indexing techniques, empowering you to efficiently analyze and manipulate complex\\ndatasets.\\nMastering Data Handling with Pandas\\nTopics\\nData Structures & Fundamentals Series, DataFrame, Panel, Basic\\nFunctionality, Indexing & Selecting, Re-\\nindexing, Iteration\\nData Operations & Transformations Sorting, Working with Text Data, Options\\n& Customization, Categorical Data, Date\\nFunctionality, Time Delta\\nData Analysis & Statistical Functions Data Statistical Functions, Window\\nFunctions\\nReading, Writing & Visualization Reading Data from Different File\\nSystems, Visualization, Tools\\nUltimate Data Science & GenAI Bootcamp       Page  8\\nModule 3'),\n",
       " Document(metadata={'source': 'syllabus.pdf', 'page': 8, 'page_label': '9'}, page_content='This module introduces you to NumPy, a key library for numerical computing in Python. You’ll learn\\nhow to create and manipulate NumPy arrays, perform advanced indexing, and understand\\nbroadcasting. The module covers essential mathematical and statistical functions, including array\\nmanipulations, binary operations, and vectorized operations. By the end, you’ll have the skills to\\nefficiently perform complex numerical computations and leverage NumPy for machine learning\\nand deep learning applications.\\nMastering NumPy\\nTopics\\nNumPy Basics & Array Creation NdArray Object, Data Types, Array\\nAttributes, Array Creation Routines,\\nArray from Existing Data, Data Array from\\nNumerical Ranges\\nIndexing, Slicing & Advanced Indexing Indexing & Slicing, Advanced Indexing\\nArray Operations & Manipulation Array Manipulation, Binary Operators,\\nString Functions, Arithmetic Operations,\\nMathematical Functions\\nMathematical & Statistical Analysis Statistical Functions, Sort, Search &\\nCounting Functions, Matrix Library,\\nLinear Algebra\\nAdvanced Concepts Broadcasting, Iterating Over Array, Byte\\nSwapping, Copies & Views\\nUltimate Data Science & GenAI Bootcamp       Page  9\\nModule 4'),\n",
       " Document(metadata={'source': 'syllabus.pdf', 'page': 9, 'page_label': '10'}, page_content=\"In this module, you’ll learn how to visualize data effectively using Python's popular libraries,\\nMatplotlib, Seaborn, and Plotly. You’ll cover essential plot types like line charts, bar graphs, and\\nscatter plots, and learn how to customize these visualizations to highlight key insights. Additionally,\\nthe module teaches you how to visualize statistical data, correlations, and distributions, helping\\nyou communicate data-driven findings in a visually compelling way.\\nData Visualization with Python\\nTopics\\nIntroduction to Data Visualization Overview of Data Visualization, Principles\\nof Good Visualization\\nMatplotlib Introduction to Matplotlib, Creating\\nBasic Plots (Line, Bar, Scatter),\\nCustomizing Axes, Titles, Legends, and\\nLabels, Working with Subplots, Saving\\nand Exporting Figures\\nSeaborn Introduction to Seaborn, Visualizing\\nDistributions, Relationship Plots\\n(Pairplots, Heatmaps), Categorical Data\\nVisualization, Advanced Plot\\nCustomizations\\nPlotly Introduction to Plotly, Creating\\nInteractive Plots (Line, Bar, Scatter),\\nCustomizing Plots, Dashboards and\\nInteractive Layouts, Plotly Express\\nUltimate Data Science & GenAI Bootcamp       Page  10\\nModule 5\"),\n",
       " Document(metadata={'source': 'syllabus.pdf', 'page': 10, 'page_label': '11'}, page_content='This module dives into advanced SQL techniques, including complex queries, joins, and indexing\\nfor efficient data retrieval. You’ll learn how to implement stored procedures, triggers, and\\nfunctions, and explore the use of window functions and partitions. The module covers key\\ndatabase design concepts like primary and foreign keys and normalization. By the end, you’ll be\\nproficient in managing large-scale databases and optimizing SQL queries for performance.\\nAdvanced SQL and Database Management\\nTopics\\nIntroduction to SQL Introduction to SQL, SQL Queries:\\nSELECT, INSERT, UPDATE, DELETE\\nSQL Functions and Procedures SQL Functions (Aggregate, Scalar),\\nStored Procedures, User-defined\\nFunctions (UDFs), Function and\\nProcedure Syntax\\nDatabase Constraints Primary and Foreign Keys, Data Integrity,\\nReferential Integrity\\nAdvanced SQL Techniques Window Functions, Partitioning, CTE\\n(Common Table Expressions), Indexing\\nSQL Joins and Unions Inner Join, Left Join, Right Join, Full Outer\\nJoin, Cross Join, Union\\nTriggers and Case Statements Triggers (Before, After), CASE\\nStatements, Conditional Logic\\nUltimate Data Science & GenAI Bootcamp       Page  11\\nModule 6'),\n",
       " Document(metadata={'source': 'syllabus.pdf', 'page': 11, 'page_label': '12'}, page_content='Advanced SQL and Database Management\\nTopics\\nNormalization and Pivoting Normalization Forms (1NF, 2NF, 3NF),\\nPivot Tables, Data Aggregation\\nUltimate Data Science & GenAI Bootcamp       Page  12\\nModule 6'),\n",
       " Document(metadata={'source': 'syllabus.pdf', 'page': 12, 'page_label': '13'}, page_content=\"In this module, you'll explore the world of NoSQL databases with MongoDB. You'll learn how to\\ncreate and manage databases, collections, and documents, and perform CRUD operations. The\\nmodule covers querying, sorting, and indexing, providing a comprehensive understanding of\\nMongoDB's flexible data model. By the end, you’ll be able to efficiently work with NoSQL\\ndatabases, particularly for use cases that involve unstructured or semi-structured data.\\nIntroduction to NoSQL with MongoDB\\nTopics\\nGetting Started with MongoDB MongoDB Introduction, Setting up\\nMongoDB, MongoDB Shell Commands\\nDatabase and Collection Management MongoDB Create Database, MongoDB\\nCreate Collection\\nCRUD Operations MongoDB Insert, MongoDB Find,\\nMongoDB Update, MongoDB Delete\\nQuerying MongoDB MongoDB Query, MongoDB Sort,\\nMongoDB Limit\\nManaging Collections MongoDB Drop Collection, MongoDB\\nDelete (Specific)\\nUltimate Data Science & GenAI Bootcamp       Page  13\\nModule 7\"),\n",
       " Document(metadata={'source': 'syllabus.pdf', 'page': 13, 'page_label': '14'}, page_content='This module provides a foundation in statistics and probability, covering essential terms, concepts,\\nand methods. You’ll learn about different types of data, levels of measurement, and key statistical\\nmeasures like mean, median, variance, and standard deviation. The module introduces random\\nvariables, probability distributions, and various types of probability functions, giving you a strong\\nbase to analyze and interpret data from a statistical perspective.\\nFoundations of Statistics and Probability\\nTopics\\nIntroduction to Statistics Introduction to Basic Statistics Terms,\\nTypes of Statistics, Types of Data, Levels\\nof Measurement, Measures of Central\\nTendency, Measures of Dispersion\\nExploring Random Variables and\\nProbability\\nRandom Variables, Set Theory,\\nSkewness, Covariance and Correlation,\\nProbability Density/Distribution Function\\nDistributions and Their Applications Types of Probability Distributions,\\nBinomial Distribution, Poisson\\nDistribution, Normal Distribution\\n(Gaussian Distribution), Probability\\nDensity Function and Mass Function,\\nCumulative Density Function, Examples\\nof Normal Distribution, Bernoulli\\nDistribution, Uniform Distribution\\nStatistical Inference Z-Statistics, Central Limit Theorem,\\nEstimation, Hypothesis Testing\\nUltimate Data Science & GenAI Bootcamp       Page  14\\nModule 8'),\n",
       " Document(metadata={'source': 'syllabus.pdf', 'page': 14, 'page_label': '15'}, page_content=\"In this module, you'll delve deeper into statistical inference techniques, including hypothesis\\ntesting, confidence intervals, and the types of errors in statistical tests. You’ll explore advanced\\nconcepts like P-values, T-tests, and Chi-square tests, learning how to interpret results in the\\ncontext of real-world data. By the end, you’ll be equipped to conduct sophisticated statistical\\nanalysis and make informed decisions based on data-driven evidence.\\nAdvanced Statistical Inference and\\nHypothesis Testing\\nTopics\\nHypothesis Testing and Errors Hypothesis Testing Mechanism, Type 1 &\\nType 2 Error, T-Tests vs. Z-Tests:\\nOverview, When to Use a T-Test vs. Z-\\nTest\\nStatistical Distributions and Tests T-Stats, Student T Distribution, Chi-\\nSquare Test, Chi-Square Distribution\\nUsing Python, Chi-Square for Goodness\\nof Fit Test\\nBayesian Statistics and Confidence\\nIntervals\\nBayes Statistics (Bayes Theorem),\\nConfidence Interval (CI), Confidence\\nIntervals and the Margin of Error,\\nInterpreting Confidence Levels and\\nConfidence Intervals\\nStatistical Significance and\\nInterpretation\\nP-Value, T-Stats vs. Z-Stats: Overview\\nUltimate Data Science & GenAI Bootcamp       Page  15\\nModule 9\"),\n",
       " Document(metadata={'source': 'syllabus.pdf', 'page': 15, 'page_label': '16'}, page_content='This module covers essential techniques for preparing and transforming data before applying\\nmachine learning models. You’ll learn how to handle missing values, deal with imbalanced data,\\nand scale or encode features. The module also explores methods for handling outliers, feature\\nselection (including forward/backward elimination), and dimensionality reduction techniques. By\\nthe end, you’ll be proficient in preparing high-quality datasets that are ready for modeling.\\nFeature Engineering and Data\\nPreprocessing\\nTopics\\nHandling Missing and Imbalanced\\nData\\nHandling Missing Data, Handling\\nImbalanced Data\\nOutliers and Scaling Handling Outliers, Feature Scaling\\nData Transformation and Encoding Data Encoding\\nFeature Selection Techniques Backward Elimination, Forward\\nElimination, Recursive Feature\\nElimination\\nCorrelation and Multicollinearity Covariance and Correlation, VIF\\nUltimate Data Science & GenAI Bootcamp       Page  16\\nModule 10'),\n",
       " Document(metadata={'source': 'syllabus.pdf', 'page': 16, 'page_label': '17'}, page_content='In this module, you’ll learn how to perform Exploratory Data Analysis (EDA) to uncover patterns,\\ntrends, and relationships in your data. You’ll master techniques for visualizing distributions,\\nidentifying correlations, and detecting anomalies. The module emphasizes the importance of\\nsummary statistics, data cleaning, and feature engineering. By the end, you’ll be able to extract\\nmeaningful insights from raw data and prepare it for further analysis or modeling.\\nExploratory Data Analysis (EDA) for\\nDetailed Insights\\nTopics\\nTrend Analysis and Segmentation Analyzing Bike Sharing Trends,\\nCustomer Segmentation and Effective\\nCross-Selling\\nSentiment and Quality Analysis Analyzing Movie Reviews Sentiment,\\nAnalyzing Wine Types and Quality\\nRecommendation and Forecasting Analyzing Music Trends and\\nRecommendations, Forecasting Stock\\nand Commodity Prices\\nUltimate Data Science & GenAI Bootcamp       Page  17\\nModule 11'),\n",
       " Document(metadata={'source': 'syllabus.pdf', 'page': 17, 'page_label': '18'}, page_content='This module provides a comprehensive introduction to machine learning, covering key algorithms\\nand techniques. You’ll learn the differences between supervised and unsupervised learning, as\\nwell as the core concepts of regression, classification, and clustering. The module introduces\\nmodel evaluation metrics like accuracy, precision, recall, and F1-score, giving you the foundation to\\nunderstand and implement machine learning models in real-world scenarios.\\nMachine Learning Foundations and\\nTechniques\\nTopics\\nIntroduction to Machine Learning AI vs ML vs DL vs DS, Types of ML\\nTechniques, Supervised vs Unsupervised\\nvs Semi-Supervised vs Reinforcement\\nLearning\\nLinear Regression Simple Linear Regression, Multiple Linear\\nRegression, MSE, MAE, RMSE, R-\\nsquared, Adjusted R-squared, Linear\\nRegression with OLS\\nRegularization Techniques Ridge Regression, Lasso Regression,\\nElasticNet\\nLogistic Regression Logistic Regression, Performance\\nMetrics: Confusion Matrix, Accuracy,\\nPrecision, Recall, F-Beta Score, ROC-\\nAUC Curve\\nSupport Vector Machines (SVM) Support Vector Classifiers, Support\\nVector Regressor, Support Vector\\nKernels\\nUltimate Data Science & GenAI Bootcamp       Page  18\\nModule 12'),\n",
       " Document(metadata={'source': 'syllabus.pdf', 'page': 18, 'page_label': '19'}, page_content='Machine Learning Foundations and\\nTechniques\\nTopics\\nBayes Theorem and Naive Bayes Introduction to Bayes Theorem, Naive\\nBayes Classifier\\nK-Nearest Neighbors (KNN) KNN Classifier, KNN Regressor\\nDecision Trees Decision Tree Classifier, Decision Tree\\nRegressor\\nEnsemble Methods Bagging, Boosting, Random Forest\\nClassifier, Random Forest Regressor,\\nOut-of-Bag Evaluation, XGBoost\\nClassifier, XGBoost Regressor\\nSupport Vector Machines (SVM) Support Vector Classifiers, Support\\nVector Regressor, Support Vector\\nKernels\\nIntroduction to Unsupervised Learning Overview of Unsupervised Learning, Use\\nCases, and Applications\\nClustering Techniques KMeans Clustering, Hierarchical\\nClustering, DBSCAN Clustering\\nUltimate Data Science & GenAI Bootcamp       Page  19\\nModule 12'),\n",
       " Document(metadata={'source': 'syllabus.pdf', 'page': 19, 'page_label': '20'}, page_content='Machine Learning Foundations and\\nTechniques\\nTopics\\nClustering Evaluation Silhouette Coefficient, Evaluation\\nMetrics for Clustering Algorithms\\nUltimate Data Science & GenAI Bootcamp       Page  20\\nModule 12'),\n",
       " Document(metadata={'source': 'syllabus.pdf', 'page': 20, 'page_label': '21'}, page_content='In this module, you’ll explore the basics of Natural Language Processing (NLP) for machine\\nlearning applications. Topics include text preprocessing (stemming, lemmatization), tokenization,\\nand POS tagging. You’ll also learn how to implement key NLP techniques like Named Entity\\nRecognition, word embeddings (Word2Vec), and TF-IDF. By the end of this module, you’ll have the\\nskills to work with textual data and apply machine learning models to solve NLP tasks.\\nNatural Language Processing for\\nMachine Learning\\nTopics\\nIntroduction to NLP for ML Roadmap to Learn NLP for ML, Practical\\nUse Cases of NLP in Machine Learning\\nText Preprocessing Tokenization, Basic Terminology,\\nStemming, Lemmatization, Stopwords\\nText Representation One-Hot Encoding, N-Gram, Bag of\\nWords (BoW), TF-IDF Intuition\\nPart of Speech (POS) Tagging POS Tagging using NLTK, Understanding\\nPOS Tags\\nNamed Entity Recognition (NER) Introduction to NER, Implementing NER\\nwith NLTK\\nWord Embeddings Introduction to Word Embeddings,\\nBenefits of Using Word Embeddings in\\nML\\nUltimate Data Science & GenAI Bootcamp       Page  21\\nModule 13'),\n",
       " Document(metadata={'source': 'syllabus.pdf', 'page': 21, 'page_label': '22'}, page_content='Natural Language Processing for\\nMachine Learning\\nTopics\\nWord2Vec Intuition behind Word2Vec, Training\\nWord2Vec Models, Skip-gram and\\nCBOW Architectures\\nUltimate Data Science & GenAI Bootcamp       Page  22\\nModule 13'),\n",
       " Document(metadata={'source': 'syllabus.pdf', 'page': 22, 'page_label': '23'}, page_content='This module introduces you to deep learning and the fundamental concepts behind artificial\\nneural networks (ANNs). You’ll learn about the architecture and workings of a neural network,\\nincluding activation functions, loss functions, and optimization techniques. The module also covers\\nbackpropagation and the vanishing gradient problem. By the end, you’ll be equipped to build and\\ntrain basic neural networks and understand how deep learning models are used in AI applications.\\nIntroduction to Deep Learning and Neural\\nNetworks\\nTopics\\nIntroduction to Deep Learning Why Deep Learning Is Becoming\\nPopular?\\nPerceptron Intuition Understanding the Perceptron Model,\\nBasic Working Principle\\nArtificial Neural Network (ANN)\\nWorking\\nStructure of ANN, Neurons, Layers, and\\nHow Data Passes Through the Network\\nBackpropagation in ANN The Backpropagation Process, Gradient\\nDescent, and Training Networks\\nVanishing Gradient Problem Explanation, Causes, and Solutions\\nExploding Gradient Problem Causes and Mitigation Techniques\\nUltimate Data Science & GenAI Bootcamp       Page  23\\nModule 14'),\n",
       " Document(metadata={'source': 'syllabus.pdf', 'page': 23, 'page_label': '24'}, page_content=\"Introduction to Deep Learning and Neural\\nNetworks\\nTopics\\nActivation Functions Different Types of Activation Functions\\n(Sigmoid, ReLU, Tanh, etc.)\\nLoss Functions Common Loss Functions for Regression\\nand Classification\\nOptimizers Types of Optimizers (SGD, Adam,\\nRMSprop, etc.)\\nWeight Initialization Techniques Methods for Initializing Weights (Xavier,\\nHe Initialization)\\nDropout Layer Concept of Dropout and its Role in\\nRegularization\\nBatch Normalization How Batch Normalization Works and\\nWhy It's Important\\nKeras Framework Fundamentals Introduction to Keras, Building Models\\nwith Keras, Basic Operations\\nPyTorch Framework Fundamentals Introduction to PyTorch, Tensor\\nOperations, Building Models with\\nPyTorch\\nUltimate Data Science & GenAI Bootcamp       Page  24\\nModule 14\"),\n",
       " Document(metadata={'source': 'syllabus.pdf', 'page': 24, 'page_label': '25'}, page_content='In this module, you’ll dive into Convolutional Neural Networks (CNNs), a cornerstone of deep\\nlearning in computer vision. You’ll learn the architecture of CNNs, including convolution layers,\\npooling layers, and fully connected layers. The module covers practical applications like image\\nclassification, object detection, and segmentation using CNNs. By the end, you’ll have hands-on\\nexperience building and training CNNs for real-world vision tasks.\\nDeep Learning : Convolutional Neural\\nNetworks (CNN) Fundamentals and\\nApplications\\nTopics\\nIntroduction to CNN CNN Fundamentals, What is\\nConvolutional Neural Network, CNN\\nArchitecture Overview\\nExplaining CNN in Detail CNN Explained in Detail, Understanding\\nTensor Space, CNN Explainer\\nCNN-Based Architectures Various CNN Architectures, Deep Dive\\ninto ResNet and its Variants\\nTraining CNN from Scratch Steps to Train CNNs, Hyperparameter\\nTuning, Overfitting, and Underfitting\\nBuilding Web Apps for CNN Deploying CNN Models into Web\\nApplications, Using Flask or Django,\\nServing Models with TensorFlow.js\\nExploding Gradient Problem Causes and Mitigation Techniques\\nUltimate Data Science & GenAI Bootcamp       Page  25\\nModule 15'),\n",
       " Document(metadata={'source': 'syllabus.pdf', 'page': 25, 'page_label': '26'}, page_content='Deep Learning : Convolutional Neural\\nNetworks (CNN) Fundamentals and\\nApplications\\nTopics\\nObject Detection Using YOLO Introduction to YOLO (You Only Look\\nOnce), YOLO Architecture, Training and\\nDeployment\\nObject Detection Using Detectron2 Understanding Detectron2 for Object\\nDetection, Using Pre-trained Models and\\nFine-tuning\\nSegmentation Using YOLO Semantic and Instance Segmentation\\nwith YOLO, Implementing YOLO for\\nSegmentation Tasks\\nSegmentation Using Detectron2 Using Detectron2 for Semantic and\\nInstance Segmentation, Implementing\\nPre-trained Models for Image\\nSegmentation\\nUltimate Data Science & GenAI Bootcamp       Page  26\\nModule 15'),\n",
       " Document(metadata={'source': 'syllabus.pdf', 'page': 26, 'page_label': '27'}, page_content=\"This module covers Recurrent Neural Networks (RNNs) and Transformer models, focusing on their\\napplications in sequential data processing. You’ll learn how RNNs and LSTMs are used for time\\nseries analysis, speech recognition, and language modeling. The module also explores the\\nTransformer architecture, which powers models like BERT and GPT. By the end, you'll have a\\nstrong grasp of these advanced neural network architectures and their applications in NLP and\\nbeyond.\\nDeep Learning : Recurrent Neural\\nNetworks (RNN) and Transformer\\nModels\\nTopics\\nIntroduction to RNNs Recurrent Neural Networks (RNN)\\nFundamentals, How RNNs Work,\\nApplications of RNN\\nLong Short Term Memory (LSTM) LSTM Cells, How LSTM Solves Vanishing\\nGradient Problem, LSTM for Sequence\\nModeling, Training and Tuning LSTM\\nGated Recurrent Units (GRU) GRU vs LSTM, Understanding GRU\\nArchitecture, Advantages of GRU in\\nSequence Modeling\\nEncoders and Decoders Encoder-Decoder Architecture,\\nApplications in Machine Translation,\\nSequence-to-Sequence Models\\nAttention Mechanism What is Attention, Types of Attention\\nMechanisms, Soft and Hard Attention\\nUltimate Data Science & GenAI Bootcamp       Page  27\\nModule 16\"),\n",
       " Document(metadata={'source': 'syllabus.pdf', 'page': 27, 'page_label': '28'}, page_content='Deep Learning : Recurrent Neural\\nNetworks (RNN) and Transformer\\nModels\\nTopics\\nAttention Neural Networks Self-Attention in Neural Networks,\\nApplying Attention to RNNs, Transformer\\nvs RNN\\nBERT Model BERT (Bidirectional Encoder\\nRepresentations from Transformers),\\nPre-training and Fine-tuning BERT,\\nApplications of BERT in NLP\\nGPT-2 Model GPT-2 (Generative Pre-trained\\nTransformer 2), Autoregressive\\nLanguage Modeling, Fine-tuning GPT-2\\nfor Text Generation\\nUltimate Data Science & GenAI Bootcamp       Page  28\\nModule 16'),\n",
       " Document(metadata={'source': 'syllabus.pdf', 'page': 28, 'page_label': '29'}, page_content='In this module, you’ll explore the world of Generative AI, understanding how these models\\ngenerate new data based on patterns learned from existing data. You’ll compare generative and\\ndiscriminative models and discover their applications in text, image, and audio generation. The\\nmodule also covers advancements in generative models, including GANs and VAEs. By the end,\\nyou’ll be familiar with key concepts and applications of Generative AI.\\nIntroduction to Generative AI\\nTopics\\nOverview of Generative AI What is Generative AI?, Overview of\\nGenerative vs. Discriminative Models,\\nSignificance and Applications of\\nGenerative AI\\nUnderstanding Generative Models How Generative Models Work, Key\\nTypes of Generative Models (e.g., GANs,\\nVAEs), Advantages of Generative Models\\nGenerative AI vs. Discriminative\\nModels\\nKey Differences, Use Cases,\\nPerformance Comparison\\nRecent Advancements and Research Latest Breakthroughs in Generative AI,\\nState-of-the-Art Models and\\nTechniques, Future Trends in Generative\\nAI\\nKey Applications of Generative\\nModels\\nApplications in Art and Creativity (e.g.,\\nImage Synthesis), Healthcare (e.g., Drug\\nDiscovery), Natural Language\\nProcessing, and More\\nUltimate Data Science & GenAI Bootcamp       Page  29\\nModule 17'),\n",
       " Document(metadata={'source': 'syllabus.pdf', 'page': 29, 'page_label': '30'}, page_content='This module introduces you to the concept of vector databases, which are designed to store and\\nretrieve high-dimensional data vectors. You’ll learn how vector databases differ from traditional\\nSQL and NoSQL databases, and explore their use cases, including similarity searches and machine\\nlearning applications. The module also covers popular vector databases like Faiss, Pinecone, and\\nChromaDB. By the end, you’ll be equipped to work with vector databases for handling complex\\ndata queries.\\nIntroduction to Vector Databases\\nTopics\\nOverview of Vector Databases What are Vector Databases?, Key\\nConcepts and Use Cases of Vector\\nDatabases, Difference Between Vector\\nDatabases and Traditional Databases\\nComparison with SQL and NoSQL\\nDatabases\\nSQL vs. NoSQL vs. Vector Databases:\\nKey Differences, Use Cases, and\\nPerformance Considerations\\nCapabilities of Vector Databases Handling High-Dimensional Data, Fast\\nSimilarity Search, Efficient Storage and\\nQuerying, Real-Time Processing\\nData Storage and Architecture of\\nVector Databases\\nStructure of Vector Data, Indexing\\nTechniques, Optimizations for Vector\\nSearch, Performance Considerations\\nTypes of Vector Databases In-Memory Vector Databases: Benefits\\nand Limitations, Local Disk-based Vector\\nDatabases, Cloud-Based Vector\\nDatabases and Their Use Cases\\nUltimate Data Science & GenAI Bootcamp       Page  30\\nModule 18'),\n",
       " Document(metadata={'source': 'syllabus.pdf', 'page': 30, 'page_label': '31'}, page_content='Introduction to Vector Databases\\nTopics\\nExploring Popular Vector Databases Chroma DB, Faiss, Quadrant, Pinecone,\\nLanceDB: Overview, Features, and Use\\nCases\\nVector Search with NoSQL Databases Integrating Vector Search with\\nMongoDB and Cassandra, Best\\nPractices for Implementing Vector\\nSearch in NoSQL Databases\\nUltimate Data Science & GenAI Bootcamp       Page  31\\nModule 18'),\n",
       " Document(metadata={'source': 'syllabus.pdf', 'page': 31, 'page_label': '32'}, page_content='This module introduces the concept of Retrieval-Augmented Generation (RAG), which combines\\nretrieval-based search with generative models for enhanced language generation tasks. You’ll\\nlearn about the end-to-end RAG pipeline, including how to implement it with tools like LangChain,\\nvector databases, and LLMs. The module also covers hybrid search, reranking, and multimodal\\nretrieval techniques. By the end, you’ll understand how to implement advanced RAG systems for\\nvarious use cases.\\nIntroduction to Retrieval-Augmented\\nGeneration (RAG)\\nTopics\\nOverview of Retrieval-Augmented\\nGeneration (RAG)\\nWhat is RAG?, Key Components of a\\nRAG System, Why RAG is Important for\\nAdvanced AI Systems\\nUnderstanding the End-to-End RAG\\nPipeline\\nOverview of the RAG Workflow, Data\\nRetrieval, Contextualization, and\\nGeneration Phases, Challenges and\\nOpportunities in RAG\\nIntegrating LangChain in RAG Introduction to LangChain Framework,\\nBuilding End-to-End RAG Pipelines with\\nLangChain\\nLeveraging Vector Databases in RAG Using Vector Databases for Efficient\\nRetrieval in RAG, Popular Vector\\nDatabases for RAG (e.g., Pinecone,\\nFAISS, Chroma DB)\\nRole of LLMs in RAG How LLMs (Large Language Models)\\nEnhance Generation in RAG, Fine-\\nTuning LLMs for Retrieval-Augmented\\nTasks\\nUltimate Data Science & GenAI Bootcamp       Page  32\\nModule 19'),\n",
       " Document(metadata={'source': 'syllabus.pdf', 'page': 32, 'page_label': '33'}, page_content='Introduction to Retrieval-Augmented\\nGeneration (RAG)\\nTopics\\nRAG with Hybrid Search and\\nReranking\\nCombining Multiple Retrieval Methods,\\nReranking Results for Improved\\nRelevance, Hybrid Search\\nImplementation Techniques\\nRAG with Various Retrieval Methods Exact vs Approximate Retrieval Methods,\\nFiltering and Ranking Retrieved Data,\\nCustomizing Retrieval Approaches for\\nSpecific Applications\\nIntegrating Memory in RAG Systems How Memory Can Improve RAG,\\nPersisting and Recalling Information for\\nConsistent Results, Implementing Long-\\nTerm Memory in RAG\\nMultimodal Retrieval-Augmented\\nGeneration\\nCombining Text, Images, and Other\\nModalities in RAG, Techniques for\\nMultimodal Retrieval and Generation,\\nPractical Applications of Multimodal\\nRAG Systems\\nUltimate Data Science & GenAI Bootcamp       Page  33\\nModule 19'),\n",
       " Document(metadata={'source': 'syllabus.pdf', 'page': 33, 'page_label': '34'}, page_content='In this course, you’ll gain hands-on experience in implementing end-to-end AI projects. You’ll learn\\nhow to manage the entire project lifecycle, from data collection and preprocessing to model\\ndevelopment, evaluation, and deployment. The module includes working on real-world AI projects,\\nwith a focus on best practices for integration, testing, and scalability. By the end, you’ll be\\nprepared to take on AI projects from start to finish, applying machine learning and deep learning\\ntechniques to solve real-world problems.\\nEnd-to-End AI Project Implementation\\nTopics\\nPython Project: Building End-to-End\\nApplications\\nOverview of Python Projects, Project\\nDesign and Architecture, Key\\nConsiderations in Python Projects\\n(Performance, Scalability, etc.), Best\\nPractices for Code Quality\\nEnd-to-End Machine Learning\\nProjects\\nUnderstanding End-to-End ML Projects,\\nKey Components of an End-to-End ML\\nProject, Project Example: Real-World ML\\nApplication\\nDeep Learning Projects Deep Learning Fundamentals in Projects,\\nEnd-to-End Deep Learning Projects \\nGenerative AI End-to-End Projects Introduction to Generative AI Projects,\\nSteps in Building Generative AI Projects\\nUltimate Data Science & GenAI Bootcamp       Page  34\\nPROJECT')]"
      ]
     },
     "execution_count": 2,
     "metadata": {},
     "output_type": "execute_result"
    }
   ],
   "source": [
    "from langchain_community.document_loaders import PyPDFLoader\n",
    "loader=PyPDFLoader('syllabus.pdf')\n",
    "docs=loader.load()\n",
    "docs"
   ]
  },
  {
   "cell_type": "code",
   "execution_count": 4,
   "metadata": {},
   "outputs": [],
   "source": [
    "from langchain_text_splitters import CharacterTextSplitter\n",
    "text_splitter=CharacterTextSplitter(separator=\"\\n\\n\",chunk_size=100,chunk_overlap=20)\n",
    "documents=text_splitter.split_documents(docs)"
   ]
  },
  {
   "cell_type": "code",
   "execution_count": 6,
   "metadata": {},
   "outputs": [
    {
     "data": {
      "text/plain": [
       "Document(metadata={'source': 'syllabus.pdf', 'page': 0, 'page_label': '1'}, page_content='MACHINE\\nLEARNING\\nDEEP\\nLEARNING\\nPYTHON +\\nSTATS\\nCOMPUTER VISIONNATURAL LANGUAGE PROCESSING\\nGENERATIVE AI\\nRETRIEVAL AUGUMENT GENERATION\\nVECTOR DB')"
      ]
     },
     "execution_count": 6,
     "metadata": {},
     "output_type": "execute_result"
    }
   ],
   "source": [
    "documents[0]"
   ]
  },
  {
   "cell_type": "code",
   "execution_count": 7,
   "metadata": {},
   "outputs": [
    {
     "name": "stderr",
     "output_type": "stream",
     "text": [
      "j:\\AgenticAIWorkspace\\venv1\\Lib\\site-packages\\tqdm\\auto.py:21: TqdmWarning: IProgress not found. Please update jupyter and ipywidgets. See https://ipywidgets.readthedocs.io/en/stable/user_install.html\n",
      "  from .autonotebook import tqdm as notebook_tqdm\n"
     ]
    }
   ],
   "source": [
    "from langchain_huggingface import HuggingFaceEmbeddings\n",
    "embeddings=HuggingFaceEmbeddings(model_name=\"all-MiniLM-L6-v2\")"
   ]
  },
  {
   "cell_type": "code",
   "execution_count": 8,
   "metadata": {},
   "outputs": [],
   "source": [
    "#checking embedding working or not\n",
    "text=\"my love is you my baby\"\n",
    "result=embeddings.embed_query(text)"
   ]
  },
  {
   "cell_type": "code",
   "execution_count": 9,
   "metadata": {},
   "outputs": [
    {
     "data": {
      "text/plain": [
       "[-0.10942183434963226,\n",
       " 0.06610727310180664,\n",
       " 0.03489680960774422,\n",
       " 0.000498096167575568,\n",
       " 0.02242240309715271,\n",
       " 0.0009564326028339565,\n",
       " 0.14315800368785858,\n",
       " -0.0016762018203735352,\n",
       " 0.0927167683839798,\n",
       " 0.05966833978891373,\n",
       " -0.07544533908367157,\n",
       " -0.0850633829832077,\n",
       " 0.0038581565022468567,\n",
       " -0.017399651929736137,\n",
       " 0.011230064556002617,\n",
       " 0.028490206226706505,\n",
       " 0.09325338155031204,\n",
       " 0.06862715631723404,\n",
       " -0.045498259365558624,\n",
       " 0.004842602182179689,\n",
       " -0.05741157755255699,\n",
       " -0.05924490839242935,\n",
       " -0.014621366746723652,\n",
       " -0.02728544920682907,\n",
       " -0.05044658109545708,\n",
       " 0.0923822820186615,\n",
       " 0.03364543989300728,\n",
       " 0.0029495188500732183,\n",
       " -0.026564903557300568,\n",
       " 0.015069268643856049,\n",
       " -0.005361473653465509,\n",
       " -0.027688749134540558,\n",
       " 0.0715419128537178,\n",
       " -0.01865619607269764,\n",
       " -0.06216983124613762,\n",
       " 0.013292426243424416,\n",
       " -0.08138372749090195,\n",
       " -0.06303536891937256,\n",
       " 0.04691769555211067,\n",
       " -0.0028577228076756,\n",
       " 0.0035820621997117996,\n",
       " -0.05207061767578125,\n",
       " -0.01918035000562668,\n",
       " 0.023886628448963165,\n",
       " -0.041913606226444244,\n",
       " 0.04971250146627426,\n",
       " 0.04473171383142471,\n",
       " 0.0034159186761826277,\n",
       " 0.024011816829442978,\n",
       " 0.06924018263816833,\n",
       " -0.09525368362665176,\n",
       " -0.04023751989006996,\n",
       " -0.08580777049064636,\n",
       " 0.055866893380880356,\n",
       " 0.10034376382827759,\n",
       " -0.022541597485542297,\n",
       " 0.07025755196809769,\n",
       " -0.05040596053004265,\n",
       " 0.06112813949584961,\n",
       " 0.07187729328870773,\n",
       " 0.01832391321659088,\n",
       " 0.06386437267065048,\n",
       " 0.023849667981266975,\n",
       " -0.04053105413913727,\n",
       " 0.008411354385316372,\n",
       " 0.027292976155877113,\n",
       " 0.02234203740954399,\n",
       " 0.028819715604186058,\n",
       " -0.069333016872406,\n",
       " -0.0067500825971364975,\n",
       " -0.060419704765081406,\n",
       " 0.07842759788036346,\n",
       " 0.01748812012374401,\n",
       " 0.08398931473493576,\n",
       " -0.057693954557180405,\n",
       " 0.08045884221792221,\n",
       " 0.008062868379056454,\n",
       " -0.008697638288140297,\n",
       " 0.025918662548065186,\n",
       " 0.009586496278643608,\n",
       " -0.05263526365160942,\n",
       " -0.11005092412233353,\n",
       " -0.05223285034298897,\n",
       " -0.0292336568236351,\n",
       " -0.020105665549635887,\n",
       " -0.055913276970386505,\n",
       " -0.007389478851109743,\n",
       " -0.04198237508535385,\n",
       " -0.03270283341407776,\n",
       " -0.06120239570736885,\n",
       " 0.011393547058105469,\n",
       " -0.029840519651770592,\n",
       " -0.025149082764983177,\n",
       " -0.026025472208857536,\n",
       " -0.0742797777056694,\n",
       " -0.11069714277982712,\n",
       " -0.025836901739239693,\n",
       " -0.062278952449560165,\n",
       " -0.04633977636694908,\n",
       " 0.04058624804019928,\n",
       " -0.011354764923453331,\n",
       " 0.016368161886930466,\n",
       " 0.024529770016670227,\n",
       " 0.08331594616174698,\n",
       " -0.06344471126794815,\n",
       " 0.038992904126644135,\n",
       " -0.011170589365065098,\n",
       " 0.015488474629819393,\n",
       " -0.042779434472322464,\n",
       " 0.011385598219931126,\n",
       " -0.06973275542259216,\n",
       " -0.015198806300759315,\n",
       " -0.017225196585059166,\n",
       " 0.07007304579019547,\n",
       " 0.061417631804943085,\n",
       " -0.06071731075644493,\n",
       " 0.07263759523630142,\n",
       " 0.018900830298662186,\n",
       " 0.07290011644363403,\n",
       " 0.0495784692466259,\n",
       " 0.010566464625298977,\n",
       " 0.02824835479259491,\n",
       " -0.0688546672463417,\n",
       " -0.0016565333353355527,\n",
       " -0.06742887943983078,\n",
       " -0.15609662234783173,\n",
       " -0.02783842384815216,\n",
       " -3.5866316290305004e-33,\n",
       " -0.00935655739158392,\n",
       " -0.03194205462932587,\n",
       " 0.04658805951476097,\n",
       " 0.1527276635169983,\n",
       " 0.02360190637409687,\n",
       " 0.05753899738192558,\n",
       " -0.029594890773296356,\n",
       " -0.006331418175250292,\n",
       " -0.028041286394000053,\n",
       " -0.008487649261951447,\n",
       " -0.08912204205989838,\n",
       " 0.00871353130787611,\n",
       " -0.014846554026007652,\n",
       " -0.013699854724109173,\n",
       " 0.021351002156734467,\n",
       " -0.0024371501058340073,\n",
       " -0.042913954704999924,\n",
       " -0.04421866312623024,\n",
       " 0.022492891177535057,\n",
       " 0.05386297404766083,\n",
       " -0.08027691394090652,\n",
       " -0.06282588839530945,\n",
       " -0.008288652636110783,\n",
       " -0.01884520798921585,\n",
       " 0.014643450267612934,\n",
       " -0.05952182412147522,\n",
       " -0.006231645122170448,\n",
       " -0.0167235154658556,\n",
       " 0.047107208520174026,\n",
       " 0.012682512402534485,\n",
       " -0.026513798162341118,\n",
       " 0.033346712589263916,\n",
       " 0.02595256268978119,\n",
       " -0.04367303103208542,\n",
       " -0.04739169776439667,\n",
       " -0.10227274894714355,\n",
       " -0.07066210359334946,\n",
       " 0.00038992075133137405,\n",
       " -0.0736047625541687,\n",
       " 0.05216085538268089,\n",
       " -0.02219487354159355,\n",
       " -0.002766507677733898,\n",
       " -0.016819903627038002,\n",
       " -0.005271002184599638,\n",
       " -0.053454771637916565,\n",
       " 0.04859807342290878,\n",
       " 0.009576908312737942,\n",
       " 0.042288366705179214,\n",
       " 0.02368660643696785,\n",
       " -0.11342102289199829,\n",
       " 0.013490522280335426,\n",
       " -0.08745453506708145,\n",
       " 0.006275588646531105,\n",
       " 0.009115231223404408,\n",
       " 0.03782523423433304,\n",
       " 0.03777413070201874,\n",
       " -0.003718211315572262,\n",
       " 0.03979291766881943,\n",
       " -0.0702953189611435,\n",
       " -0.021823761984705925,\n",
       " 0.034227337688207626,\n",
       " 0.009994164109230042,\n",
       " 0.007594460621476173,\n",
       " -0.07208933681249619,\n",
       " -0.0013857275480404496,\n",
       " -0.06956701725721359,\n",
       " 0.06957511603832245,\n",
       " 0.03422215208411217,\n",
       " 0.03945988416671753,\n",
       " -0.00840037316083908,\n",
       " -0.03206736594438553,\n",
       " -0.014551540836691856,\n",
       " -0.04221642389893532,\n",
       " -0.053661201149225235,\n",
       " 0.006263197865337133,\n",
       " -0.00047869712579995394,\n",
       " 0.07646926492452621,\n",
       " 0.028807204216718674,\n",
       " -0.048029590398073196,\n",
       " -0.04027397930622101,\n",
       " 0.03443870693445206,\n",
       " 0.027812018990516663,\n",
       " 0.08702044188976288,\n",
       " 0.02465658262372017,\n",
       " 0.01635921373963356,\n",
       " -0.03740215301513672,\n",
       " -0.017661496996879578,\n",
       " 0.01657271385192871,\n",
       " -0.12167827785015106,\n",
       " 0.029197996482253075,\n",
       " -0.11622220277786255,\n",
       " -0.010204399935901165,\n",
       " 0.02907133474946022,\n",
       " -0.0743454098701477,\n",
       " -0.030080998316407204,\n",
       " 1.222704775345203e-33,\n",
       " 0.048994552344083786,\n",
       " 0.07332443445920944,\n",
       " 0.03699858859181404,\n",
       " 0.07475124299526215,\n",
       " -0.04749268293380737,\n",
       " -0.041303861886262894,\n",
       " 0.05846061185002327,\n",
       " 0.07307697087526321,\n",
       " 0.002690548775717616,\n",
       " 0.08116358518600464,\n",
       " -0.004595858044922352,\n",
       " -0.0645383670926094,\n",
       " 0.08237491548061371,\n",
       " 0.007469437550753355,\n",
       " 0.026783721521496773,\n",
       " 0.060208458453416824,\n",
       " 0.06304378807544708,\n",
       " 0.03999679908156395,\n",
       " 0.01818002015352249,\n",
       " 0.024925006553530693,\n",
       " -0.05327543243765831,\n",
       " 0.08937889337539673,\n",
       " -0.00801769271492958,\n",
       " 0.0031605600379407406,\n",
       " -0.018326083198189735,\n",
       " -0.06078862398862839,\n",
       " -0.014434796757996082,\n",
       " -0.004608239978551865,\n",
       " 0.0732908844947815,\n",
       " 0.007616078481078148,\n",
       " 0.04956129938364029,\n",
       " 0.01463032141327858,\n",
       " -0.0632341131567955,\n",
       " -0.01946941763162613,\n",
       " 0.02151850424706936,\n",
       " 0.016316648572683334,\n",
       " -0.08223595470190048,\n",
       " 0.044073086231946945,\n",
       " -0.11163444817066193,\n",
       " 0.010789457708597183,\n",
       " -0.028669537976384163,\n",
       " 0.0026336628943681717,\n",
       " 0.008732657879590988,\n",
       " 0.12159014493227005,\n",
       " 0.0009096629801206291,\n",
       " -0.044693928211927414,\n",
       " -0.010336126200854778,\n",
       " 0.08690988272428513,\n",
       " -0.025484168902039528,\n",
       " 0.05531957000494003,\n",
       " -0.014344836585223675,\n",
       " -0.0716380849480629,\n",
       " -0.07918139547109604,\n",
       " 0.024837184697389603,\n",
       " -0.0075802975334227085,\n",
       " 0.11369985342025757,\n",
       " 0.09257175773382187,\n",
       " -0.025911182165145874,\n",
       " 0.02153971791267395,\n",
       " -0.009190111421048641,\n",
       " 0.0007304186001420021,\n",
       " 0.08427469432353973,\n",
       " -0.051070425659418106,\n",
       " -0.023605091497302055,\n",
       " 0.038301561027765274,\n",
       " 0.05886886268854141,\n",
       " 0.04140050709247589,\n",
       " 0.010339202359318733,\n",
       " -0.016084592789411545,\n",
       " -0.05751923844218254,\n",
       " -0.05778311565518379,\n",
       " 0.009570946916937828,\n",
       " -0.09289253503084183,\n",
       " 0.04127076640725136,\n",
       " -0.028250867500901222,\n",
       " -0.05859600380063057,\n",
       " -0.014752696268260479,\n",
       " -0.041390616446733475,\n",
       " 0.00674221757799387,\n",
       " -0.038712888956069946,\n",
       " 0.055038224905729294,\n",
       " 0.011837112717330456,\n",
       " 0.0045365579426288605,\n",
       " 0.05113263055682182,\n",
       " 0.005383427254855633,\n",
       " -0.0609242245554924,\n",
       " 0.011128649115562439,\n",
       " 0.07028015702962875,\n",
       " -0.02972951903939247,\n",
       " -0.09745112806558609,\n",
       " 0.026219023391604424,\n",
       " 0.03162376955151558,\n",
       " -0.09203404188156128,\n",
       " -0.0582456961274147,\n",
       " 0.0452895388007164,\n",
       " -1.8800008660946332e-08,\n",
       " 0.004423171281814575,\n",
       " 0.043679919093847275,\n",
       " -0.08360394090414047,\n",
       " -0.022816715762019157,\n",
       " 0.00716179795563221,\n",
       " -0.032190125435590744,\n",
       " 0.034250348806381226,\n",
       " -0.1049002930521965,\n",
       " -0.014112417586147785,\n",
       " -0.037762317806482315,\n",
       " 0.04225919395685196,\n",
       " 0.09782443195581436,\n",
       " 0.008251448161900043,\n",
       " 0.03134842962026596,\n",
       " -0.017721189185976982,\n",
       " 0.006811726838350296,\n",
       " -0.017530640587210655,\n",
       " -0.0368107333779335,\n",
       " 0.015885302796959877,\n",
       " 0.03862828016281128,\n",
       " 0.02223874256014824,\n",
       " 0.034360360354185104,\n",
       " 0.06368203461170197,\n",
       " 0.03009735606610775,\n",
       " 0.03109201416373253,\n",
       " 0.02114984206855297,\n",
       " 0.01672223210334778,\n",
       " 0.06222718209028244,\n",
       " 0.01727236807346344,\n",
       " 0.006555529311299324,\n",
       " 0.038710907101631165,\n",
       " 0.01061984058469534,\n",
       " -0.01786065474152565,\n",
       " 0.011910640634596348,\n",
       " 0.010614213533699512,\n",
       " 0.018029116094112396,\n",
       " -0.007954257540404797,\n",
       " 0.06581509858369827,\n",
       " -0.03129727393388748,\n",
       " -0.06583690643310547,\n",
       " 0.016223471611738205,\n",
       " 0.16461524367332458,\n",
       " 0.012957567349076271,\n",
       " 0.021297259256243706,\n",
       " -0.0830385610461235,\n",
       " -0.007499439641833305,\n",
       " 0.07087329030036926,\n",
       " -0.018810881301760674,\n",
       " -0.03143169358372688,\n",
       " -0.0648021399974823,\n",
       " -0.0385688878595829,\n",
       " -0.04785449057817459,\n",
       " -0.02053845487535,\n",
       " 0.06139112636446953,\n",
       " 0.04051417112350464,\n",
       " 0.016942044720053673,\n",
       " -0.07403983175754547,\n",
       " 0.023269155994057655,\n",
       " -0.014087589457631111,\n",
       " 0.10013322532176971,\n",
       " 0.08636622875928879,\n",
       " 0.054057151079177856,\n",
       " 0.08986256271600723,\n",
       " -0.06420442461967468]"
      ]
     },
     "execution_count": 9,
     "metadata": {},
     "output_type": "execute_result"
    }
   ],
   "source": [
    "result"
   ]
  },
  {
   "cell_type": "code",
   "execution_count": 10,
   "metadata": {},
   "outputs": [
    {
     "data": {
      "text/plain": [
       "384"
      ]
     },
     "execution_count": 10,
     "metadata": {},
     "output_type": "execute_result"
    }
   ],
   "source": [
    "len(result)"
   ]
  },
  {
   "cell_type": "code",
   "execution_count": 11,
   "metadata": {},
   "outputs": [
    {
     "data": {
      "text/plain": [
       "<langchain_community.vectorstores.faiss.FAISS at 0x25b66c678c0>"
      ]
     },
     "execution_count": 11,
     "metadata": {},
     "output_type": "execute_result"
    }
   ],
   "source": [
    "#yes its working now converting chunks to embeddings and storing it to vector stores.\n",
    "from langchain_community.vectorstores import FAISS\n",
    "\n",
    "vectorstore=FAISS.from_documents(documents,embeddings)\n",
    "vectorstore"
   ]
  },
  {
   "cell_type": "code",
   "execution_count": 14,
   "metadata": {},
   "outputs": [
    {
     "data": {
      "text/plain": [
       "'This module provides a comprehensive introduction to machine learning, covering key algorithms\\nand techniques. You’ll learn the differences between supervised and unsupervised learning, as\\nwell as the core concepts of regression, classification, and clustering. The module introduces\\nmodel evaluation metrics like accuracy, precision, recall, and F1-score, giving you the foundation to\\nunderstand and implement machine learning models in real-world scenarios.\\nMachine Learning Foundations and\\nTechniques\\nTopics\\nIntroduction to Machine Learning AI vs ML vs DL vs DS, Types of ML\\nTechniques, Supervised vs Unsupervised\\nvs Semi-Supervised vs Reinforcement\\nLearning\\nLinear Regression Simple Linear Regression, Multiple Linear\\nRegression, MSE, MAE, RMSE, R-\\nsquared, Adjusted R-squared, Linear\\nRegression with OLS\\nRegularization Techniques Ridge Regression, Lasso Regression,\\nElasticNet\\nLogistic Regression Logistic Regression, Performance\\nMetrics: Confusion Matrix, Accuracy,\\nPrecision, Recall, F-Beta Score, ROC-\\nAUC Curve\\nSupport Vector Machines (SVM) Support Vector Classifiers, Support\\nVector Regressor, Support Vector\\nKernels\\nUltimate Data Science & GenAI Bootcamp       Page  18\\nModule 12'"
      ]
     },
     "execution_count": 14,
     "metadata": {},
     "output_type": "execute_result"
    }
   ],
   "source": [
    "result=vectorstore.similarity_search(\"i am a machine learning enthusiast\")\n",
    "result[0].page_content"
   ]
  },
  {
   "cell_type": "code",
   "execution_count": 15,
   "metadata": {},
   "outputs": [],
   "source": [
    "from langchain_core.prompts import ChatPromptTemplate\n",
    "\n",
    "prompt=ChatPromptTemplate.from_template(\n",
    "    \"\"\"\n",
    "Answer the following question based only on the provided context:\n",
    "<context>\n",
    "{context}\n",
    "</context>\n",
    "\n",
    "\n",
    "\"\"\"\n",
    ")"
   ]
  },
  {
   "cell_type": "code",
   "execution_count": 16,
   "metadata": {},
   "outputs": [],
   "source": [
    "from langchain_groq import ChatGroq\n",
    "model=ChatGroq(model=\"Gemma2-9b-It\")"
   ]
  },
  {
   "cell_type": "code",
   "execution_count": 17,
   "metadata": {},
   "outputs": [
    {
     "data": {
      "text/plain": [
       "ChatGroq(client=<groq.resources.chat.completions.Completions object at 0x0000025B6A2746E0>, async_client=<groq.resources.chat.completions.AsyncCompletions object at 0x0000025B6A2756D0>, model_name='Gemma2-9b-It', model_kwargs={}, groq_api_key=SecretStr('**********'))"
      ]
     },
     "execution_count": 17,
     "metadata": {},
     "output_type": "execute_result"
    }
   ],
   "source": [
    "model"
   ]
  },
  {
   "cell_type": "code",
   "execution_count": 18,
   "metadata": {},
   "outputs": [
    {
     "data": {
      "text/plain": [
       "RunnableBinding(bound=RunnableBinding(bound=RunnableAssign(mapper={\n",
       "  context: RunnableLambda(format_docs)\n",
       "}), kwargs={}, config={'run_name': 'format_inputs'}, config_factories=[])\n",
       "| ChatPromptTemplate(input_variables=['context'], input_types={}, partial_variables={}, messages=[HumanMessagePromptTemplate(prompt=PromptTemplate(input_variables=['context'], input_types={}, partial_variables={}, template='\\nAnswer the following question based only on the provided context:\\n<context>\\n{context}\\n</context>\\n\\n\\n'), additional_kwargs={})])\n",
       "| ChatGroq(client=<groq.resources.chat.completions.Completions object at 0x0000025B6A2746E0>, async_client=<groq.resources.chat.completions.AsyncCompletions object at 0x0000025B6A2756D0>, model_name='Gemma2-9b-It', model_kwargs={}, groq_api_key=SecretStr('**********'))\n",
       "| StrOutputParser(), kwargs={}, config={'run_name': 'stuff_documents_chain'}, config_factories=[])"
      ]
     },
     "execution_count": 18,
     "metadata": {},
     "output_type": "execute_result"
    }
   ],
   "source": [
    "from langchain.chains.combine_documents import create_stuff_documents_chain\n",
    "document_chain=create_stuff_documents_chain(model,prompt)\n",
    "document_chain"
   ]
  },
  {
   "cell_type": "code",
   "execution_count": 19,
   "metadata": {},
   "outputs": [
    {
     "data": {
      "text/plain": [
       "RunnableBinding(bound=RunnableAssign(mapper={\n",
       "  context: RunnableBinding(bound=RunnableLambda(lambda x: x['input'])\n",
       "           | VectorStoreRetriever(tags=['FAISS', 'HuggingFaceEmbeddings'], vectorstore=<langchain_community.vectorstores.faiss.FAISS object at 0x0000025B66C678C0>, search_kwargs={}), kwargs={}, config={'run_name': 'retrieve_documents'}, config_factories=[])\n",
       "})\n",
       "| RunnableAssign(mapper={\n",
       "    answer: RunnableBinding(bound=RunnableBinding(bound=RunnableAssign(mapper={\n",
       "              context: RunnableLambda(format_docs)\n",
       "            }), kwargs={}, config={'run_name': 'format_inputs'}, config_factories=[])\n",
       "            | ChatPromptTemplate(input_variables=['context'], input_types={}, partial_variables={}, messages=[HumanMessagePromptTemplate(prompt=PromptTemplate(input_variables=['context'], input_types={}, partial_variables={}, template='\\nAnswer the following question based only on the provided context:\\n<context>\\n{context}\\n</context>\\n\\n\\n'), additional_kwargs={})])\n",
       "            | ChatGroq(client=<groq.resources.chat.completions.Completions object at 0x0000025B6A2746E0>, async_client=<groq.resources.chat.completions.AsyncCompletions object at 0x0000025B6A2756D0>, model_name='Gemma2-9b-It', model_kwargs={}, groq_api_key=SecretStr('**********'))\n",
       "            | StrOutputParser(), kwargs={}, config={'run_name': 'stuff_documents_chain'}, config_factories=[])\n",
       "  }), kwargs={}, config={'run_name': 'retrieval_chain'}, config_factories=[])"
      ]
     },
     "execution_count": 19,
     "metadata": {},
     "output_type": "execute_result"
    }
   ],
   "source": [
    "retriever=vectorstore.as_retriever() ##retriever is a interface\n",
    "\n",
    "from langchain.chains import create_retrieval_chain\n",
    "\n",
    "retrieval_chain=create_retrieval_chain(retriever,document_chain)#passing vector store and llm|prompt.\n",
    "retrieval_chain"
   ]
  },
  {
   "cell_type": "code",
   "execution_count": 20,
   "metadata": {},
   "outputs": [],
   "source": [
    "result=retrieval_chain.invoke({\"input\":\"machine learning is trending\"})"
   ]
  },
  {
   "cell_type": "code",
   "execution_count": 21,
   "metadata": {},
   "outputs": [
    {
     "data": {
      "text/plain": [
       "{'input': 'machine learning is trending',\n",
       " 'context': [Document(id='497f14b2-80a8-499c-b25d-84cb54ce6197', metadata={'source': 'syllabus.pdf', 'page': 18, 'page_label': '19'}, page_content='Machine Learning Foundations and\\nTechniques\\nTopics\\nBayes Theorem and Naive Bayes Introduction to Bayes Theorem, Naive\\nBayes Classifier\\nK-Nearest Neighbors (KNN) KNN Classifier, KNN Regressor\\nDecision Trees Decision Tree Classifier, Decision Tree\\nRegressor\\nEnsemble Methods Bagging, Boosting, Random Forest\\nClassifier, Random Forest Regressor,\\nOut-of-Bag Evaluation, XGBoost\\nClassifier, XGBoost Regressor\\nSupport Vector Machines (SVM) Support Vector Classifiers, Support\\nVector Regressor, Support Vector\\nKernels\\nIntroduction to Unsupervised Learning Overview of Unsupervised Learning, Use\\nCases, and Applications\\nClustering Techniques KMeans Clustering, Hierarchical\\nClustering, DBSCAN Clustering\\nUltimate Data Science & GenAI Bootcamp       Page  19\\nModule 12'),\n",
       "  Document(id='924c3601-ff39-42aa-aa31-507cf249eb85', metadata={'source': 'syllabus.pdf', 'page': 17, 'page_label': '18'}, page_content='This module provides a comprehensive introduction to machine learning, covering key algorithms\\nand techniques. You’ll learn the differences between supervised and unsupervised learning, as\\nwell as the core concepts of regression, classification, and clustering. The module introduces\\nmodel evaluation metrics like accuracy, precision, recall, and F1-score, giving you the foundation to\\nunderstand and implement machine learning models in real-world scenarios.\\nMachine Learning Foundations and\\nTechniques\\nTopics\\nIntroduction to Machine Learning AI vs ML vs DL vs DS, Types of ML\\nTechniques, Supervised vs Unsupervised\\nvs Semi-Supervised vs Reinforcement\\nLearning\\nLinear Regression Simple Linear Regression, Multiple Linear\\nRegression, MSE, MAE, RMSE, R-\\nsquared, Adjusted R-squared, Linear\\nRegression with OLS\\nRegularization Techniques Ridge Regression, Lasso Regression,\\nElasticNet\\nLogistic Regression Logistic Regression, Performance\\nMetrics: Confusion Matrix, Accuracy,\\nPrecision, Recall, F-Beta Score, ROC-\\nAUC Curve\\nSupport Vector Machines (SVM) Support Vector Classifiers, Support\\nVector Regressor, Support Vector\\nKernels\\nUltimate Data Science & GenAI Bootcamp       Page  18\\nModule 12'),\n",
       "  Document(id='cc42b168-b433-4835-90d1-9e8139cf4b1c', metadata={'source': 'syllabus.pdf', 'page': 19, 'page_label': '20'}, page_content='Machine Learning Foundations and\\nTechniques\\nTopics\\nClustering Evaluation Silhouette Coefficient, Evaluation\\nMetrics for Clustering Algorithms\\nUltimate Data Science & GenAI Bootcamp       Page  20\\nModule 12'),\n",
       "  Document(id='30c1822e-8da0-4e7b-a1df-5448b75fff13', metadata={'source': 'syllabus.pdf', 'page': 15, 'page_label': '16'}, page_content='This module covers essential techniques for preparing and transforming data before applying\\nmachine learning models. You’ll learn how to handle missing values, deal with imbalanced data,\\nand scale or encode features. The module also explores methods for handling outliers, feature\\nselection (including forward/backward elimination), and dimensionality reduction techniques. By\\nthe end, you’ll be proficient in preparing high-quality datasets that are ready for modeling.\\nFeature Engineering and Data\\nPreprocessing\\nTopics\\nHandling Missing and Imbalanced\\nData\\nHandling Missing Data, Handling\\nImbalanced Data\\nOutliers and Scaling Handling Outliers, Feature Scaling\\nData Transformation and Encoding Data Encoding\\nFeature Selection Techniques Backward Elimination, Forward\\nElimination, Recursive Feature\\nElimination\\nCorrelation and Multicollinearity Covariance and Correlation, VIF\\nUltimate Data Science & GenAI Bootcamp       Page  16\\nModule 10')],\n",
       " 'answer': 'This text lists various machine learning algorithms and techniques covered in different modules of a  \"Ultimate Data Science & GenAI Bootcamp\". \\n\\nIt does not contain the answer to a specific question. \\n\\n\\nPlease provide a question based on the context. \\n'}"
      ]
     },
     "execution_count": 21,
     "metadata": {},
     "output_type": "execute_result"
    }
   ],
   "source": [
    "result"
   ]
  },
  {
   "cell_type": "code",
   "execution_count": 22,
   "metadata": {},
   "outputs": [
    {
     "data": {
      "text/plain": [
       "'This text lists various machine learning algorithms and techniques covered in different modules of a  \"Ultimate Data Science & GenAI Bootcamp\". \\n\\nIt does not contain the answer to a specific question. \\n\\n\\nPlease provide a question based on the context. \\n'"
      ]
     },
     "execution_count": 22,
     "metadata": {},
     "output_type": "execute_result"
    }
   ],
   "source": [
    "result['answer']"
   ]
  },
  {
   "cell_type": "code",
   "execution_count": null,
   "metadata": {},
   "outputs": [],
   "source": []
  }
 ],
 "metadata": {
  "kernelspec": {
   "display_name": "Python 3",
   "language": "python",
   "name": "python3"
  },
  "language_info": {
   "codemirror_mode": {
    "name": "ipython",
    "version": 3
   },
   "file_extension": ".py",
   "mimetype": "text/x-python",
   "name": "python",
   "nbconvert_exporter": "python",
   "pygments_lexer": "ipython3",
   "version": "3.12.0"
  }
 },
 "nbformat": 4,
 "nbformat_minor": 2
}
