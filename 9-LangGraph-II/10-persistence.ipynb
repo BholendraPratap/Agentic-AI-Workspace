{
 "cells": [
  {
   "cell_type": "markdown",
   "id": "ae15b603",
   "metadata": {},
   "source": [
    "Persistence:Checkpointer and Threads"
   ]
  },
  {
   "cell_type": "code",
   "execution_count": 10,
   "id": "3e928b41",
   "metadata": {},
   "outputs": [],
   "source": [
    "from langgraph.graph import StateGraph, START, END\n",
    "from typing import TypedDict\n",
    "from langchain_groq import ChatGroq\n",
    "from dotenv import load_dotenv\n",
    "from langgraph.checkpoint.memory import InMemorySaver\n",
    "    "
   ]
  },
  {
   "cell_type": "code",
   "execution_count": 11,
   "id": "9a108f6d",
   "metadata": {},
   "outputs": [],
   "source": [
    "load_dotenv()\n",
    "\n",
    "llm = ChatGroq( model=\"llama-3.3-70b-versatile\")"
   ]
  },
  {
   "cell_type": "code",
   "execution_count": 12,
   "id": "5120530e",
   "metadata": {},
   "outputs": [
    {
     "data": {
      "text/plain": [
       "AIMessage(content=\"TCS can refer to different things depending on the context. Here are a few possible meanings:\\n\\n1. **Tata Consultancy Services**: TCS is a multinational information technology (IT) consulting and business solutions company headquartered in Mumbai, India. It is one of the largest IT companies in the world and provides a wide range of services, including consulting, digital transformation, and IT outsourcing.\\n2. **Technical Customer Support**: In some cases, TCS can also refer to Technical Customer Support, which is a team or department responsible for providing technical assistance and support to customers, often for a company's products or services.\\n3. **Transportation and Classification System**: In logistics and supply chain management, TCS can refer to a Transportation and Classification System, which is a system used to manage and classify transportation modes, routes, and carriers.\\n4. **Thermal Control System**: In engineering and technology, TCS can refer to a Thermal Control System, which is a system used to regulate and control temperature in a specific environment or application.\\n5. **Tax Collection at Source**: In finance and taxation, TCS can refer to Tax Collection at Source, which is a system where taxes are collected by the seller or service provider at the time of sale or provision of service.\\n\\nWithout more context, it's difficult to determine which meaning is most relevant. If you have any additional information or clarification, I'd be happy to try and provide a more specific answer.\", additional_kwargs={}, response_metadata={'token_usage': {'completion_tokens': 293, 'prompt_tokens': 40, 'total_tokens': 333, 'completion_time': 0.737937166, 'prompt_time': 0.010976134, 'queue_time': 0.045320782000000004, 'total_time': 0.7489133}, 'model_name': 'llama-3.3-70b-versatile', 'system_fingerprint': 'fp_9a8b91ba77', 'finish_reason': 'stop', 'logprobs': None}, id='run-29149159-fd6e-48e9-808f-15895c600132-0', usage_metadata={'input_tokens': 40, 'output_tokens': 293, 'total_tokens': 333})"
      ]
     },
     "execution_count": 12,
     "metadata": {},
     "output_type": "execute_result"
    }
   ],
   "source": [
    "llm.invoke(\"what is TCS?\")"
   ]
  },
  {
   "cell_type": "code",
   "execution_count": 13,
   "id": "e26c9433",
   "metadata": {},
   "outputs": [],
   "source": [
    "class JokeState(TypedDict):\n",
    "\n",
    "    topic: str\n",
    "    joke: str\n",
    "    explanation: str"
   ]
  },
  {
   "cell_type": "code",
   "execution_count": 14,
   "id": "4f431dd5",
   "metadata": {},
   "outputs": [],
   "source": [
    "def generate_joke(state: JokeState):\n",
    "\n",
    "    prompt = f'generate a joke on the topic {state[\"topic\"]}'\n",
    "    response = llm.invoke(prompt).content\n",
    "\n",
    "    return {'joke': response}"
   ]
  },
  {
   "cell_type": "code",
   "execution_count": 15,
   "id": "48198afe",
   "metadata": {},
   "outputs": [],
   "source": [
    "def generate_explanation(state: JokeState):\n",
    "\n",
    "    prompt = f'write an explanation for the joke - {state[\"joke\"]}'\n",
    "    response = llm.invoke(prompt).content\n",
    "\n",
    "    return {'explanation': response}"
   ]
  },
  {
   "cell_type": "code",
   "execution_count": 16,
   "id": "c2539688",
   "metadata": {},
   "outputs": [],
   "source": [
    "graph = StateGraph(JokeState)\n",
    "\n",
    "graph.add_node('generate_joke', generate_joke)\n",
    "graph.add_node('generate_explanation', generate_explanation)\n",
    "\n",
    "graph.add_edge(START, 'generate_joke')\n",
    "graph.add_edge('generate_joke', 'generate_explanation')\n",
    "graph.add_edge('generate_explanation', END)\n",
    "\n",
    "checkpointer = InMemorySaver() #just give a check pointer object\n",
    "\n",
    "workflow = graph.compile(checkpointer=checkpointer)"
   ]
  },
  {
   "cell_type": "code",
   "execution_count": 17,
   "id": "106e7104",
   "metadata": {},
   "outputs": [
    {
     "data": {
      "text/plain": [
       "{'topic': 'pizza',\n",
       " 'joke': 'Why was the pizza in a bad mood?\\n\\nBecause it was feeling a little crusty! (get it?)',\n",
       " 'explanation': 'The joke relies on a play on words to create humor. The setup \"Why was the pizza in a bad mood?\" primes the listener to expect a reason related to the pizza\\'s emotional state. The punchline \"Because it was feeling a little crusty!\" subverts this expectation by using the word \"crusty\" in a double sense.\\n\\nIn one sense, \"crusty\" can describe someone or something that is irritable, gruff, or in a bad mood. However, in the context of a pizza, \"crusty\" also refers to the crispy, golden-brown edge of the pizza, which is a defining characteristic of the food.\\n\\nThe joke exploits this dual meaning of \"crusty\" to create a humorous connection between the pizza\\'s emotional state and its physical properties. The phrase \"feeling a little crusty\" is a clever play on words that bridges the gap between the pizza\\'s mood and its crust, creating a lighthearted and amusing effect. The \"(get it?)\" at the end of the joke is a nod to the wordplay, acknowledging the clever use of language and inviting the listener to appreciate the cleverness of the joke.'}"
      ]
     },
     "execution_count": 17,
     "metadata": {},
     "output_type": "execute_result"
    }
   ],
   "source": [
    "config1 = {\"configurable\": {\"thread_id\": \"1\"}}\n",
    "workflow.invoke({'topic':'pizza'}, config=config1) # just mention the config details"
   ]
  },
  {
   "cell_type": "code",
   "execution_count": 18,
   "id": "911a8c35",
   "metadata": {},
   "outputs": [
    {
     "data": {
      "text/plain": [
       "StateSnapshot(values={'topic': 'pizza', 'joke': 'Why was the pizza in a bad mood?\\n\\nBecause it was feeling a little crusty! (get it?)', 'explanation': 'The joke relies on a play on words to create humor. The setup \"Why was the pizza in a bad mood?\" primes the listener to expect a reason related to the pizza\\'s emotional state. The punchline \"Because it was feeling a little crusty!\" subverts this expectation by using the word \"crusty\" in a double sense.\\n\\nIn one sense, \"crusty\" can describe someone or something that is irritable, gruff, or in a bad mood. However, in the context of a pizza, \"crusty\" also refers to the crispy, golden-brown edge of the pizza, which is a defining characteristic of the food.\\n\\nThe joke exploits this dual meaning of \"crusty\" to create a humorous connection between the pizza\\'s emotional state and its physical properties. The phrase \"feeling a little crusty\" is a clever play on words that bridges the gap between the pizza\\'s mood and its crust, creating a lighthearted and amusing effect. The \"(get it?)\" at the end of the joke is a nod to the wordplay, acknowledging the clever use of language and inviting the listener to appreciate the cleverness of the joke.'}, next=(), config={'configurable': {'thread_id': '1', 'checkpoint_ns': '', 'checkpoint_id': '1f06e56f-718b-69eb-8002-93449a5c1812'}}, metadata={'source': 'loop', 'writes': {'generate_explanation': {'explanation': 'The joke relies on a play on words to create humor. The setup \"Why was the pizza in a bad mood?\" primes the listener to expect a reason related to the pizza\\'s emotional state. The punchline \"Because it was feeling a little crusty!\" subverts this expectation by using the word \"crusty\" in a double sense.\\n\\nIn one sense, \"crusty\" can describe someone or something that is irritable, gruff, or in a bad mood. However, in the context of a pizza, \"crusty\" also refers to the crispy, golden-brown edge of the pizza, which is a defining characteristic of the food.\\n\\nThe joke exploits this dual meaning of \"crusty\" to create a humorous connection between the pizza\\'s emotional state and its physical properties. The phrase \"feeling a little crusty\" is a clever play on words that bridges the gap between the pizza\\'s mood and its crust, creating a lighthearted and amusing effect. The \"(get it?)\" at the end of the joke is a nod to the wordplay, acknowledging the clever use of language and inviting the listener to appreciate the cleverness of the joke.'}}, 'thread_id': '1', 'step': 2, 'parents': {}}, created_at='2025-07-31T21:40:24.032100+00:00', parent_config={'configurable': {'thread_id': '1', 'checkpoint_ns': '', 'checkpoint_id': '1f06e56f-69c1-6092-8001-2ce7fbbac545'}}, tasks=())"
      ]
     },
     "execution_count": 18,
     "metadata": {},
     "output_type": "execute_result"
    }
   ],
   "source": [
    "workflow.get_state(config1) #this heplps to get final value of the state."
   ]
  },
  {
   "cell_type": "code",
   "execution_count": 19,
   "id": "745bd577",
   "metadata": {},
   "outputs": [
    {
     "data": {
      "text/plain": [
       "[StateSnapshot(values={'topic': 'pizza', 'joke': 'Why was the pizza in a bad mood?\\n\\nBecause it was feeling a little crusty! (get it?)', 'explanation': 'The joke relies on a play on words to create humor. The setup \"Why was the pizza in a bad mood?\" primes the listener to expect a reason related to the pizza\\'s emotional state. The punchline \"Because it was feeling a little crusty!\" subverts this expectation by using the word \"crusty\" in a double sense.\\n\\nIn one sense, \"crusty\" can describe someone or something that is irritable, gruff, or in a bad mood. However, in the context of a pizza, \"crusty\" also refers to the crispy, golden-brown edge of the pizza, which is a defining characteristic of the food.\\n\\nThe joke exploits this dual meaning of \"crusty\" to create a humorous connection between the pizza\\'s emotional state and its physical properties. The phrase \"feeling a little crusty\" is a clever play on words that bridges the gap between the pizza\\'s mood and its crust, creating a lighthearted and amusing effect. The \"(get it?)\" at the end of the joke is a nod to the wordplay, acknowledging the clever use of language and inviting the listener to appreciate the cleverness of the joke.'}, next=(), config={'configurable': {'thread_id': '1', 'checkpoint_ns': '', 'checkpoint_id': '1f06e56f-718b-69eb-8002-93449a5c1812'}}, metadata={'source': 'loop', 'writes': {'generate_explanation': {'explanation': 'The joke relies on a play on words to create humor. The setup \"Why was the pizza in a bad mood?\" primes the listener to expect a reason related to the pizza\\'s emotional state. The punchline \"Because it was feeling a little crusty!\" subverts this expectation by using the word \"crusty\" in a double sense.\\n\\nIn one sense, \"crusty\" can describe someone or something that is irritable, gruff, or in a bad mood. However, in the context of a pizza, \"crusty\" also refers to the crispy, golden-brown edge of the pizza, which is a defining characteristic of the food.\\n\\nThe joke exploits this dual meaning of \"crusty\" to create a humorous connection between the pizza\\'s emotional state and its physical properties. The phrase \"feeling a little crusty\" is a clever play on words that bridges the gap between the pizza\\'s mood and its crust, creating a lighthearted and amusing effect. The \"(get it?)\" at the end of the joke is a nod to the wordplay, acknowledging the clever use of language and inviting the listener to appreciate the cleverness of the joke.'}}, 'thread_id': '1', 'step': 2, 'parents': {}}, created_at='2025-07-31T21:40:24.032100+00:00', parent_config={'configurable': {'thread_id': '1', 'checkpoint_ns': '', 'checkpoint_id': '1f06e56f-69c1-6092-8001-2ce7fbbac545'}}, tasks=()),\n",
       " StateSnapshot(values={'topic': 'pizza', 'joke': 'Why was the pizza in a bad mood?\\n\\nBecause it was feeling a little crusty! (get it?)'}, next=('generate_explanation',), config={'configurable': {'thread_id': '1', 'checkpoint_ns': '', 'checkpoint_id': '1f06e56f-69c1-6092-8001-2ce7fbbac545'}}, metadata={'source': 'loop', 'writes': {'generate_joke': {'joke': 'Why was the pizza in a bad mood?\\n\\nBecause it was feeling a little crusty! (get it?)'}}, 'thread_id': '1', 'step': 1, 'parents': {}}, created_at='2025-07-31T21:40:23.215118+00:00', parent_config={'configurable': {'thread_id': '1', 'checkpoint_ns': '', 'checkpoint_id': '1f06e56f-66bf-60b6-8000-75740705f3f6'}}, tasks=(PregelTask(id='629993c6-8200-9b7f-4a89-e4077b653af9', name='generate_explanation', path=('__pregel_pull', 'generate_explanation'), error=None, interrupts=(), state=None, result={'explanation': 'The joke relies on a play on words to create humor. The setup \"Why was the pizza in a bad mood?\" primes the listener to expect a reason related to the pizza\\'s emotional state. The punchline \"Because it was feeling a little crusty!\" subverts this expectation by using the word \"crusty\" in a double sense.\\n\\nIn one sense, \"crusty\" can describe someone or something that is irritable, gruff, or in a bad mood. However, in the context of a pizza, \"crusty\" also refers to the crispy, golden-brown edge of the pizza, which is a defining characteristic of the food.\\n\\nThe joke exploits this dual meaning of \"crusty\" to create a humorous connection between the pizza\\'s emotional state and its physical properties. The phrase \"feeling a little crusty\" is a clever play on words that bridges the gap between the pizza\\'s mood and its crust, creating a lighthearted and amusing effect. The \"(get it?)\" at the end of the joke is a nod to the wordplay, acknowledging the clever use of language and inviting the listener to appreciate the cleverness of the joke.'}),)),\n",
       " StateSnapshot(values={'topic': 'pizza'}, next=('generate_joke',), config={'configurable': {'thread_id': '1', 'checkpoint_ns': '', 'checkpoint_id': '1f06e56f-66bf-60b6-8000-75740705f3f6'}}, metadata={'source': 'loop', 'writes': None, 'thread_id': '1', 'step': 0, 'parents': {}}, created_at='2025-07-31T21:40:22.899730+00:00', parent_config={'configurable': {'thread_id': '1', 'checkpoint_ns': '', 'checkpoint_id': '1f06e56f-66b7-6ad2-bfff-3ed4d56d714b'}}, tasks=(PregelTask(id='83418412-f856-f280-de40-dd2aed66ecfe', name='generate_joke', path=('__pregel_pull', 'generate_joke'), error=None, interrupts=(), state=None, result={'joke': 'Why was the pizza in a bad mood?\\n\\nBecause it was feeling a little crusty! (get it?)'}),)),\n",
       " StateSnapshot(values={}, next=('__start__',), config={'configurable': {'thread_id': '1', 'checkpoint_ns': '', 'checkpoint_id': '1f06e56f-66b7-6ad2-bfff-3ed4d56d714b'}}, metadata={'source': 'input', 'writes': {'__start__': {'topic': 'pizza'}}, 'thread_id': '1', 'step': -1, 'parents': {}}, created_at='2025-07-31T21:40:22.896712+00:00', parent_config=None, tasks=(PregelTask(id='4e35dce4-ac47-1364-79f3-68c39ff361ac', name='__start__', path=('__pregel_pull', '__start__'), error=None, interrupts=(), state=None, result={'topic': 'pizza'}),))]"
      ]
     },
     "execution_count": 19,
     "metadata": {},
     "output_type": "execute_result"
    }
   ],
   "source": [
    "list(workflow.get_state_history(config1)) #helps to display whole history not just final state"
   ]
  },
  {
   "cell_type": "code",
   "execution_count": 20,
   "id": "8abff159",
   "metadata": {},
   "outputs": [
    {
     "data": {
      "text/plain": [
       "{'topic': 'pasta',\n",
       " 'joke': 'Why did the spaghetti refuse to get married?\\n\\nBecause it was afraid of getting tangled up in a lifelong commitment.',\n",
       " 'explanation': 'A clever play on words. This joke relies on a pun to create humor. Here\\'s a breakdown of the explanation:\\n\\nThe setup for the joke is \"Why did the spaghetti refuse to get married?\" which primes the listener to expect a reason related to relationships or commitment. The punchline \"Because it was afraid of getting tangled up in a lifelong commitment\" is where the wordplay comes in.\\n\\nThe phrase \"tangled up\" has a double meaning here:\\n\\n1. **Literal meaning**: Spaghetti is a type of long, thin, flexible pasta that can easily become tangled or knotted. So, in a literal sense, spaghetti can get physically tangled up.\\n2. **Figurative meaning**: In the context of relationships, \"tangled up\" is an idiomatic expression that means to become deeply involved or entangled in a complicated situation, often implying a sense of being trapped or overwhelmed.\\n\\nThe joke exploits this dual meaning by applying the physical characteristic of spaghetti (getting tangled) to the emotional and psychological aspect of a lifelong commitment (getting tangled up in a relationship). The humor comes from the unexpected twist on the usual meaning of \"tangled up\" and the clever connection between the physical properties of spaghetti and the emotional implications of marriage.\\n\\nIn essence, the joke is saying that the spaghetti is afraid of getting married because it\\'s worried about becoming entangled in a complicated and potentially overwhelming relationship – a feeling that many people can relate to, but with the added layer of wordplay that makes it a humorous and lighthearted joke.'}"
      ]
     },
     "execution_count": 20,
     "metadata": {},
     "output_type": "execute_result"
    }
   ],
   "source": [
    "#for another thread id:--\n",
    "config2 = {\"configurable\": {\"thread_id\": \"2\"}}\n",
    "workflow.invoke({'topic':'pasta'}, config=config2)"
   ]
  },
  {
   "cell_type": "code",
   "execution_count": 21,
   "id": "b1653d67",
   "metadata": {},
   "outputs": [
    {
     "data": {
      "text/plain": [
       "StateSnapshot(values={'topic': 'pasta', 'joke': 'Why did the spaghetti refuse to get married?\\n\\nBecause it was afraid of getting tangled up in a lifelong commitment.', 'explanation': 'A clever play on words. This joke relies on a pun to create humor. Here\\'s a breakdown of the explanation:\\n\\nThe setup for the joke is \"Why did the spaghetti refuse to get married?\" which primes the listener to expect a reason related to relationships or commitment. The punchline \"Because it was afraid of getting tangled up in a lifelong commitment\" is where the wordplay comes in.\\n\\nThe phrase \"tangled up\" has a double meaning here:\\n\\n1. **Literal meaning**: Spaghetti is a type of long, thin, flexible pasta that can easily become tangled or knotted. So, in a literal sense, spaghetti can get physically tangled up.\\n2. **Figurative meaning**: In the context of relationships, \"tangled up\" is an idiomatic expression that means to become deeply involved or entangled in a complicated situation, often implying a sense of being trapped or overwhelmed.\\n\\nThe joke exploits this dual meaning by applying the physical characteristic of spaghetti (getting tangled) to the emotional and psychological aspect of a lifelong commitment (getting tangled up in a relationship). The humor comes from the unexpected twist on the usual meaning of \"tangled up\" and the clever connection between the physical properties of spaghetti and the emotional implications of marriage.\\n\\nIn essence, the joke is saying that the spaghetti is afraid of getting married because it\\'s worried about becoming entangled in a complicated and potentially overwhelming relationship – a feeling that many people can relate to, but with the added layer of wordplay that makes it a humorous and lighthearted joke.'}, next=(), config={'configurable': {'thread_id': '2', 'checkpoint_ns': '', 'checkpoint_id': '1f06e56f-bc3d-63c3-8002-51e9e88e48fb'}}, metadata={'source': 'loop', 'writes': {'generate_explanation': {'explanation': 'A clever play on words. This joke relies on a pun to create humor. Here\\'s a breakdown of the explanation:\\n\\nThe setup for the joke is \"Why did the spaghetti refuse to get married?\" which primes the listener to expect a reason related to relationships or commitment. The punchline \"Because it was afraid of getting tangled up in a lifelong commitment\" is where the wordplay comes in.\\n\\nThe phrase \"tangled up\" has a double meaning here:\\n\\n1. **Literal meaning**: Spaghetti is a type of long, thin, flexible pasta that can easily become tangled or knotted. So, in a literal sense, spaghetti can get physically tangled up.\\n2. **Figurative meaning**: In the context of relationships, \"tangled up\" is an idiomatic expression that means to become deeply involved or entangled in a complicated situation, often implying a sense of being trapped or overwhelmed.\\n\\nThe joke exploits this dual meaning by applying the physical characteristic of spaghetti (getting tangled) to the emotional and psychological aspect of a lifelong commitment (getting tangled up in a relationship). The humor comes from the unexpected twist on the usual meaning of \"tangled up\" and the clever connection between the physical properties of spaghetti and the emotional implications of marriage.\\n\\nIn essence, the joke is saying that the spaghetti is afraid of getting married because it\\'s worried about becoming entangled in a complicated and potentially overwhelming relationship – a feeling that many people can relate to, but with the added layer of wordplay that makes it a humorous and lighthearted joke.'}}, 'thread_id': '2', 'step': 2, 'parents': {}}, created_at='2025-07-31T21:40:31.864313+00:00', parent_config={'configurable': {'thread_id': '2', 'checkpoint_ns': '', 'checkpoint_id': '1f06e56f-b1f3-6a54-8001-3067ca5a5752'}}, tasks=())"
      ]
     },
     "execution_count": 21,
     "metadata": {},
     "output_type": "execute_result"
    }
   ],
   "source": [
    "workflow.get_state(config2) #provide current step state values"
   ]
  },
  {
   "cell_type": "code",
   "execution_count": 22,
   "id": "e8e7c02a",
   "metadata": {},
   "outputs": [
    {
     "data": {
      "text/plain": [
       "[StateSnapshot(values={'topic': 'pasta', 'joke': 'Why did the spaghetti refuse to get married?\\n\\nBecause it was afraid of getting tangled up in a lifelong commitment.', 'explanation': 'A clever play on words. This joke relies on a pun to create humor. Here\\'s a breakdown of the explanation:\\n\\nThe setup for the joke is \"Why did the spaghetti refuse to get married?\" which primes the listener to expect a reason related to relationships or commitment. The punchline \"Because it was afraid of getting tangled up in a lifelong commitment\" is where the wordplay comes in.\\n\\nThe phrase \"tangled up\" has a double meaning here:\\n\\n1. **Literal meaning**: Spaghetti is a type of long, thin, flexible pasta that can easily become tangled or knotted. So, in a literal sense, spaghetti can get physically tangled up.\\n2. **Figurative meaning**: In the context of relationships, \"tangled up\" is an idiomatic expression that means to become deeply involved or entangled in a complicated situation, often implying a sense of being trapped or overwhelmed.\\n\\nThe joke exploits this dual meaning by applying the physical characteristic of spaghetti (getting tangled) to the emotional and psychological aspect of a lifelong commitment (getting tangled up in a relationship). The humor comes from the unexpected twist on the usual meaning of \"tangled up\" and the clever connection between the physical properties of spaghetti and the emotional implications of marriage.\\n\\nIn essence, the joke is saying that the spaghetti is afraid of getting married because it\\'s worried about becoming entangled in a complicated and potentially overwhelming relationship – a feeling that many people can relate to, but with the added layer of wordplay that makes it a humorous and lighthearted joke.'}, next=(), config={'configurable': {'thread_id': '2', 'checkpoint_ns': '', 'checkpoint_id': '1f06e56f-bc3d-63c3-8002-51e9e88e48fb'}}, metadata={'source': 'loop', 'writes': {'generate_explanation': {'explanation': 'A clever play on words. This joke relies on a pun to create humor. Here\\'s a breakdown of the explanation:\\n\\nThe setup for the joke is \"Why did the spaghetti refuse to get married?\" which primes the listener to expect a reason related to relationships or commitment. The punchline \"Because it was afraid of getting tangled up in a lifelong commitment\" is where the wordplay comes in.\\n\\nThe phrase \"tangled up\" has a double meaning here:\\n\\n1. **Literal meaning**: Spaghetti is a type of long, thin, flexible pasta that can easily become tangled or knotted. So, in a literal sense, spaghetti can get physically tangled up.\\n2. **Figurative meaning**: In the context of relationships, \"tangled up\" is an idiomatic expression that means to become deeply involved or entangled in a complicated situation, often implying a sense of being trapped or overwhelmed.\\n\\nThe joke exploits this dual meaning by applying the physical characteristic of spaghetti (getting tangled) to the emotional and psychological aspect of a lifelong commitment (getting tangled up in a relationship). The humor comes from the unexpected twist on the usual meaning of \"tangled up\" and the clever connection between the physical properties of spaghetti and the emotional implications of marriage.\\n\\nIn essence, the joke is saying that the spaghetti is afraid of getting married because it\\'s worried about becoming entangled in a complicated and potentially overwhelming relationship – a feeling that many people can relate to, but with the added layer of wordplay that makes it a humorous and lighthearted joke.'}}, 'thread_id': '2', 'step': 2, 'parents': {}}, created_at='2025-07-31T21:40:31.864313+00:00', parent_config={'configurable': {'thread_id': '2', 'checkpoint_ns': '', 'checkpoint_id': '1f06e56f-b1f3-6a54-8001-3067ca5a5752'}}, tasks=()),\n",
       " StateSnapshot(values={'topic': 'pasta', 'joke': 'Why did the spaghetti refuse to get married?\\n\\nBecause it was afraid of getting tangled up in a lifelong commitment.'}, next=('generate_explanation',), config={'configurable': {'thread_id': '2', 'checkpoint_ns': '', 'checkpoint_id': '1f06e56f-b1f3-6a54-8001-3067ca5a5752'}}, metadata={'source': 'loop', 'writes': {'generate_joke': {'joke': 'Why did the spaghetti refuse to get married?\\n\\nBecause it was afraid of getting tangled up in a lifelong commitment.'}}, 'thread_id': '2', 'step': 1, 'parents': {}}, created_at='2025-07-31T21:40:30.785595+00:00', parent_config={'configurable': {'thread_id': '2', 'checkpoint_ns': '', 'checkpoint_id': '1f06e56f-ae92-6994-8000-6a1892ff2620'}}, tasks=(PregelTask(id='0a220cde-92ba-f497-0782-ec5ef135cddf', name='generate_explanation', path=('__pregel_pull', 'generate_explanation'), error=None, interrupts=(), state=None, result={'explanation': 'A clever play on words. This joke relies on a pun to create humor. Here\\'s a breakdown of the explanation:\\n\\nThe setup for the joke is \"Why did the spaghetti refuse to get married?\" which primes the listener to expect a reason related to relationships or commitment. The punchline \"Because it was afraid of getting tangled up in a lifelong commitment\" is where the wordplay comes in.\\n\\nThe phrase \"tangled up\" has a double meaning here:\\n\\n1. **Literal meaning**: Spaghetti is a type of long, thin, flexible pasta that can easily become tangled or knotted. So, in a literal sense, spaghetti can get physically tangled up.\\n2. **Figurative meaning**: In the context of relationships, \"tangled up\" is an idiomatic expression that means to become deeply involved or entangled in a complicated situation, often implying a sense of being trapped or overwhelmed.\\n\\nThe joke exploits this dual meaning by applying the physical characteristic of spaghetti (getting tangled) to the emotional and psychological aspect of a lifelong commitment (getting tangled up in a relationship). The humor comes from the unexpected twist on the usual meaning of \"tangled up\" and the clever connection between the physical properties of spaghetti and the emotional implications of marriage.\\n\\nIn essence, the joke is saying that the spaghetti is afraid of getting married because it\\'s worried about becoming entangled in a complicated and potentially overwhelming relationship – a feeling that many people can relate to, but with the added layer of wordplay that makes it a humorous and lighthearted joke.'}),)),\n",
       " StateSnapshot(values={'topic': 'pasta'}, next=('generate_joke',), config={'configurable': {'thread_id': '2', 'checkpoint_ns': '', 'checkpoint_id': '1f06e56f-ae92-6994-8000-6a1892ff2620'}}, metadata={'source': 'loop', 'writes': None, 'thread_id': '2', 'step': 0, 'parents': {}}, created_at='2025-07-31T21:40:30.431272+00:00', parent_config={'configurable': {'thread_id': '2', 'checkpoint_ns': '', 'checkpoint_id': '1f06e56f-ae8c-6339-bfff-c7e43d421f37'}}, tasks=(PregelTask(id='4b7785df-6d61-0427-cf15-0ee409f8e56a', name='generate_joke', path=('__pregel_pull', 'generate_joke'), error=None, interrupts=(), state=None, result={'joke': 'Why did the spaghetti refuse to get married?\\n\\nBecause it was afraid of getting tangled up in a lifelong commitment.'}),)),\n",
       " StateSnapshot(values={}, next=('__start__',), config={'configurable': {'thread_id': '2', 'checkpoint_ns': '', 'checkpoint_id': '1f06e56f-ae8c-6339-bfff-c7e43d421f37'}}, metadata={'source': 'input', 'writes': {'__start__': {'topic': 'pasta'}}, 'thread_id': '2', 'step': -1, 'parents': {}}, created_at='2025-07-31T21:40:30.428652+00:00', parent_config=None, tasks=(PregelTask(id='47bd6a09-b118-dd1a-a613-5567317364e2', name='__start__', path=('__pregel_pull', '__start__'), error=None, interrupts=(), state=None, result={'topic': 'pasta'}),))]"
      ]
     },
     "execution_count": 22,
     "metadata": {},
     "output_type": "execute_result"
    }
   ],
   "source": [
    "list(workflow.get_state_history(config2)) #provide each steps state values"
   ]
  },
  {
   "cell_type": "markdown",
   "id": "51c9f6ad",
   "metadata": {},
   "source": [
    "#### Fault Tolerance"
   ]
  },
  {
   "cell_type": "code",
   "execution_count": 3,
   "id": "7309566d",
   "metadata": {},
   "outputs": [],
   "source": [
    "from langgraph.graph import StateGraph, END\n",
    "from langgraph.checkpoint.memory import InMemorySaver\n",
    "from typing import TypedDict\n",
    "import time"
   ]
  },
  {
   "cell_type": "code",
   "execution_count": 4,
   "id": "a751c4db",
   "metadata": {},
   "outputs": [],
   "source": [
    "# 1. Define the state\n",
    "class CrashState(TypedDict):\n",
    "    input: str\n",
    "    step1: str\n",
    "    step2: str"
   ]
  },
  {
   "cell_type": "code",
   "execution_count": 5,
   "id": "f39fb699",
   "metadata": {},
   "outputs": [],
   "source": [
    "# 2. Define steps\n",
    "def step_1(state: CrashState) -> CrashState:\n",
    "    print(\"✅ Step 1 executed\")\n",
    "    return {\"step1\": \"done\", \"input\": state[\"input\"]}\n",
    "\n",
    "def step_2(state: CrashState) -> CrashState:\n",
    "    print(\"⏳ Step 2 hanging... now manually interrupt from the notebook toolbar (STOP button)\")\n",
    "    time.sleep(1000)  # Simulate long-running hang\n",
    "    return {\"step2\": \"done\"}\n",
    "\n",
    "def step_3(state: CrashState) -> CrashState:\n",
    "    print(\"✅ Step 3 executed\")\n",
    "    return {\"done\": True}"
   ]
  },
  {
   "cell_type": "code",
   "execution_count": 6,
   "id": "f599c388",
   "metadata": {},
   "outputs": [],
   "source": [
    "# 3. Build the graph\n",
    "builder = StateGraph(CrashState)\n",
    "builder.add_node(\"step_1\", step_1)\n",
    "builder.add_node(\"step_2\", step_2)\n",
    "builder.add_node(\"step_3\", step_3)\n",
    "\n",
    "builder.set_entry_point(\"step_1\")\n",
    "builder.add_edge(\"step_1\", \"step_2\")\n",
    "builder.add_edge(\"step_2\", \"step_3\")\n",
    "builder.add_edge(\"step_3\", END)\n",
    "\n",
    "checkpointer = InMemorySaver()\n",
    "graph = builder.compile(checkpointer=checkpointer)"
   ]
  },
  {
   "cell_type": "code",
   "execution_count": null,
   "id": "5ede258e",
   "metadata": {},
   "outputs": [
    {
     "name": "stdout",
     "output_type": "stream",
     "text": [
      "▶️ Running graph: Please manually interrupt during Step 2...\n",
      "✅ Step 1 executed\n",
      "⏳ Step 2 hanging... now manually interrupt from the notebook toolbar (STOP button)\n"
     ]
    }
   ],
   "source": [
    "try:\n",
    "    print(\"▶️ Running graph: Please manually interrupt during Step 2...\")\n",
    "    graph.invoke({\"input\": \"start\"}, config={\"configurable\": {\"thread_id\": 'thread-1'}})\n",
    "except KeyboardInterrupt:\n",
    "    print(\"❌ Kernel manually interrupted (crash simulated).\")"
   ]
  },
  {
   "cell_type": "code",
   "execution_count": null,
   "id": "54331270",
   "metadata": {},
   "outputs": [],
   "source": [
    "# 6. Re-run to show fault-tolerant resume\n",
    "print(\"\\n🔁 Re-running the graph to demonstrate fault tolerance...\")\n",
    "final_state = graph.invoke(None, config={\"configurable\": {\"thread_id\": 'thread-1'}})\n",
    "print(\"\\n✅ Final State:\", final_state)"
   ]
  },
  {
   "cell_type": "code",
   "execution_count": null,
   "id": "c991288e",
   "metadata": {},
   "outputs": [],
   "source": [
    "list(graph.get_state_history({\"configurable\": {\"thread_id\": 'thread-1'}}))"
   ]
  },
  {
   "cell_type": "markdown",
   "id": "2379b51d",
   "metadata": {},
   "source": [
    "#### Time Travel :basically this is used to debugging purpose and executing intermediate steps.."
   ]
  },
  {
   "cell_type": "code",
   "execution_count": 26,
   "id": "eb7ff0a8",
   "metadata": {},
   "outputs": [
    {
     "data": {
      "text/plain": [
       "StateSnapshot(values={'topic': 'pizza'}, next=('generate_joke',), config={'configurable': {'thread_id': '1', 'checkpoint_id': '1f06e56f-66bf-60b6-8000-75740705f3f6'}}, metadata={'source': 'loop', 'writes': None, 'thread_id': '1', 'step': 0, 'parents': {}}, created_at='2025-07-31T21:40:22.899730+00:00', parent_config={'configurable': {'thread_id': '1', 'checkpoint_ns': '', 'checkpoint_id': '1f06e56f-66b7-6ad2-bfff-3ed4d56d714b'}}, tasks=(PregelTask(id='83418412-f856-f280-de40-dd2aed66ecfe', name='generate_joke', path=('__pregel_pull', 'generate_joke'), error=None, interrupts=(), state=None, result={'joke': 'Why was the pizza in a bad mood?\\n\\nBecause it was feeling a little crusty! (get it?)'}),))"
      ]
     },
     "execution_count": 26,
     "metadata": {},
     "output_type": "execute_result"
    }
   ],
   "source": [
    "workflow.get_state({\"configurable\": {\"thread_id\": \"1\", \"checkpoint_id\": \"1f06e56f-66bf-60b6-8000-75740705f3f6\"}})"
   ]
  },
  {
   "cell_type": "code",
   "execution_count": 27,
   "id": "8d53c7f7",
   "metadata": {},
   "outputs": [
    {
     "data": {
      "text/plain": [
       "{'topic': 'pizza',\n",
       " 'joke': 'Why was the pizza in a bad mood?\\n\\nBecause it was feeling a little crusty! (get it?)',\n",
       " 'explanation': 'A classic play on words. This joke relies on a pun to create humor. Here\\'s a breakdown of how it works:\\n\\nThe joke starts by setting up a situation where a pizza is in a bad mood, which is an unexpected and anthropomorphic concept, as pizzas are inanimate objects and can\\'t actually have emotions. The listener is then prompted to wonder why the pizza might be in a bad mood.\\n\\nThe punchline, \"Because it was feeling a little crusty!\" is where the wordplay comes in. \"Crusty\" has a double meaning here:\\n\\n1. In terms of personality, \"crusty\" can describe someone who is irritable, gruff, or short-tempered. So, in this context, the pizza is \"feeling a little crusty\" because it\\'s in a bad mood.\\n2. However, \"crusty\" also refers to the outer layer of a pizza, which is crispy and crunchy. This is a clever play on words, as the joke is making a connection between the pizza\\'s emotional state and its physical characteristics.\\n\\nThe humor comes from the unexpected twist on the word \"crusty\" and the clever connection between the pizza\\'s mood and its crust. The joke requires a quick mental shift to understand the wordplay, and the surprise and cleverness of the pun create the comedic effect.'}"
      ]
     },
     "execution_count": 27,
     "metadata": {},
     "output_type": "execute_result"
    }
   ],
   "source": [
    "workflow.invoke(None, {\"configurable\": {\"thread_id\": \"1\", \"checkpoint_id\": \"1f06e56f-66bf-60b6-8000-75740705f3f6\"}})"
   ]
  },
  {
   "cell_type": "code",
   "execution_count": 28,
   "id": "19d8b86e",
   "metadata": {},
   "outputs": [
    {
     "data": {
      "text/plain": [
       "[StateSnapshot(values={'topic': 'pizza', 'joke': 'Why was the pizza in a bad mood?\\n\\nBecause it was feeling a little crusty! (get it?)', 'explanation': 'A classic play on words. This joke relies on a pun to create humor. Here\\'s a breakdown of how it works:\\n\\nThe joke starts by setting up a situation where a pizza is in a bad mood, which is an unexpected and anthropomorphic concept, as pizzas are inanimate objects and can\\'t actually have emotions. The listener is then prompted to wonder why the pizza might be in a bad mood.\\n\\nThe punchline, \"Because it was feeling a little crusty!\" is where the wordplay comes in. \"Crusty\" has a double meaning here:\\n\\n1. In terms of personality, \"crusty\" can describe someone who is irritable, gruff, or short-tempered. So, in this context, the pizza is \"feeling a little crusty\" because it\\'s in a bad mood.\\n2. However, \"crusty\" also refers to the outer layer of a pizza, which is crispy and crunchy. This is a clever play on words, as the joke is making a connection between the pizza\\'s emotional state and its physical characteristics.\\n\\nThe humor comes from the unexpected twist on the word \"crusty\" and the clever connection between the pizza\\'s mood and its crust. The joke requires a quick mental shift to understand the wordplay, and the surprise and cleverness of the pun create the comedic effect.'}, next=(), config={'configurable': {'thread_id': '1', 'checkpoint_ns': '', 'checkpoint_id': '1f06e58e-2652-649e-8002-7044f625aed1'}}, metadata={'source': 'loop', 'writes': {'generate_explanation': {'explanation': 'A classic play on words. This joke relies on a pun to create humor. Here\\'s a breakdown of how it works:\\n\\nThe joke starts by setting up a situation where a pizza is in a bad mood, which is an unexpected and anthropomorphic concept, as pizzas are inanimate objects and can\\'t actually have emotions. The listener is then prompted to wonder why the pizza might be in a bad mood.\\n\\nThe punchline, \"Because it was feeling a little crusty!\" is where the wordplay comes in. \"Crusty\" has a double meaning here:\\n\\n1. In terms of personality, \"crusty\" can describe someone who is irritable, gruff, or short-tempered. So, in this context, the pizza is \"feeling a little crusty\" because it\\'s in a bad mood.\\n2. However, \"crusty\" also refers to the outer layer of a pizza, which is crispy and crunchy. This is a clever play on words, as the joke is making a connection between the pizza\\'s emotional state and its physical characteristics.\\n\\nThe humor comes from the unexpected twist on the word \"crusty\" and the clever connection between the pizza\\'s mood and its crust. The joke requires a quick mental shift to understand the wordplay, and the surprise and cleverness of the pun create the comedic effect.'}}, 'thread_id': '1', 'checkpoint_id': '1f06e56f-66bf-60b6-8000-75740705f3f6', 'step': 2, 'parents': {}}, created_at='2025-07-31T21:54:08.294211+00:00', parent_config={'configurable': {'thread_id': '1', 'checkpoint_ns': '', 'checkpoint_id': '1f06e58e-1ecc-60ab-8001-1f38ab6e98a8'}}, tasks=()),\n",
       " StateSnapshot(values={'topic': 'pizza', 'joke': 'Why was the pizza in a bad mood?\\n\\nBecause it was feeling a little crusty! (get it?)'}, next=('generate_explanation',), config={'configurable': {'thread_id': '1', 'checkpoint_ns': '', 'checkpoint_id': '1f06e58e-1ecc-60ab-8001-1f38ab6e98a8'}}, metadata={'source': 'loop', 'writes': {'generate_joke': {'joke': 'Why was the pizza in a bad mood?\\n\\nBecause it was feeling a little crusty! (get it?)'}}, 'thread_id': '1', 'checkpoint_id': '1f06e56f-66bf-60b6-8000-75740705f3f6', 'step': 1, 'parents': {}}, created_at='2025-07-31T21:54:07.505220+00:00', parent_config={'configurable': {'thread_id': '1', 'checkpoint_ns': '', 'checkpoint_id': '1f06e56f-66bf-60b6-8000-75740705f3f6'}}, tasks=(PregelTask(id='cf87c995-9acd-2ecc-19ca-c0e55021eb7a', name='generate_explanation', path=('__pregel_pull', 'generate_explanation'), error=None, interrupts=(), state=None, result={'explanation': 'A classic play on words. This joke relies on a pun to create humor. Here\\'s a breakdown of how it works:\\n\\nThe joke starts by setting up a situation where a pizza is in a bad mood, which is an unexpected and anthropomorphic concept, as pizzas are inanimate objects and can\\'t actually have emotions. The listener is then prompted to wonder why the pizza might be in a bad mood.\\n\\nThe punchline, \"Because it was feeling a little crusty!\" is where the wordplay comes in. \"Crusty\" has a double meaning here:\\n\\n1. In terms of personality, \"crusty\" can describe someone who is irritable, gruff, or short-tempered. So, in this context, the pizza is \"feeling a little crusty\" because it\\'s in a bad mood.\\n2. However, \"crusty\" also refers to the outer layer of a pizza, which is crispy and crunchy. This is a clever play on words, as the joke is making a connection between the pizza\\'s emotional state and its physical characteristics.\\n\\nThe humor comes from the unexpected twist on the word \"crusty\" and the clever connection between the pizza\\'s mood and its crust. The joke requires a quick mental shift to understand the wordplay, and the surprise and cleverness of the pun create the comedic effect.'}),)),\n",
       " StateSnapshot(values={'topic': 'pizza', 'joke': 'Why was the pizza in a bad mood?\\n\\nBecause it was feeling a little crusty! (get it?)', 'explanation': 'The joke relies on a play on words to create humor. The setup \"Why was the pizza in a bad mood?\" primes the listener to expect a reason related to the pizza\\'s emotional state. The punchline \"Because it was feeling a little crusty!\" subverts this expectation by using the word \"crusty\" in a double sense.\\n\\nIn one sense, \"crusty\" can describe someone or something that is irritable, gruff, or in a bad mood. However, in the context of a pizza, \"crusty\" also refers to the crispy, golden-brown edge of the pizza, which is a defining characteristic of the food.\\n\\nThe joke exploits this dual meaning of \"crusty\" to create a humorous connection between the pizza\\'s emotional state and its physical properties. The phrase \"feeling a little crusty\" is a clever play on words that bridges the gap between the pizza\\'s mood and its crust, creating a lighthearted and amusing effect. The \"(get it?)\" at the end of the joke is a nod to the wordplay, acknowledging the clever use of language and inviting the listener to appreciate the cleverness of the joke.'}, next=(), config={'configurable': {'thread_id': '1', 'checkpoint_ns': '', 'checkpoint_id': '1f06e56f-718b-69eb-8002-93449a5c1812'}}, metadata={'source': 'loop', 'writes': {'generate_explanation': {'explanation': 'The joke relies on a play on words to create humor. The setup \"Why was the pizza in a bad mood?\" primes the listener to expect a reason related to the pizza\\'s emotional state. The punchline \"Because it was feeling a little crusty!\" subverts this expectation by using the word \"crusty\" in a double sense.\\n\\nIn one sense, \"crusty\" can describe someone or something that is irritable, gruff, or in a bad mood. However, in the context of a pizza, \"crusty\" also refers to the crispy, golden-brown edge of the pizza, which is a defining characteristic of the food.\\n\\nThe joke exploits this dual meaning of \"crusty\" to create a humorous connection between the pizza\\'s emotional state and its physical properties. The phrase \"feeling a little crusty\" is a clever play on words that bridges the gap between the pizza\\'s mood and its crust, creating a lighthearted and amusing effect. The \"(get it?)\" at the end of the joke is a nod to the wordplay, acknowledging the clever use of language and inviting the listener to appreciate the cleverness of the joke.'}}, 'thread_id': '1', 'step': 2, 'parents': {}}, created_at='2025-07-31T21:40:24.032100+00:00', parent_config={'configurable': {'thread_id': '1', 'checkpoint_ns': '', 'checkpoint_id': '1f06e56f-69c1-6092-8001-2ce7fbbac545'}}, tasks=()),\n",
       " StateSnapshot(values={'topic': 'pizza', 'joke': 'Why was the pizza in a bad mood?\\n\\nBecause it was feeling a little crusty! (get it?)'}, next=('generate_explanation',), config={'configurable': {'thread_id': '1', 'checkpoint_ns': '', 'checkpoint_id': '1f06e56f-69c1-6092-8001-2ce7fbbac545'}}, metadata={'source': 'loop', 'writes': {'generate_joke': {'joke': 'Why was the pizza in a bad mood?\\n\\nBecause it was feeling a little crusty! (get it?)'}}, 'thread_id': '1', 'step': 1, 'parents': {}}, created_at='2025-07-31T21:40:23.215118+00:00', parent_config={'configurable': {'thread_id': '1', 'checkpoint_ns': '', 'checkpoint_id': '1f06e56f-66bf-60b6-8000-75740705f3f6'}}, tasks=(PregelTask(id='629993c6-8200-9b7f-4a89-e4077b653af9', name='generate_explanation', path=('__pregel_pull', 'generate_explanation'), error=None, interrupts=(), state=None, result={'explanation': 'The joke relies on a play on words to create humor. The setup \"Why was the pizza in a bad mood?\" primes the listener to expect a reason related to the pizza\\'s emotional state. The punchline \"Because it was feeling a little crusty!\" subverts this expectation by using the word \"crusty\" in a double sense.\\n\\nIn one sense, \"crusty\" can describe someone or something that is irritable, gruff, or in a bad mood. However, in the context of a pizza, \"crusty\" also refers to the crispy, golden-brown edge of the pizza, which is a defining characteristic of the food.\\n\\nThe joke exploits this dual meaning of \"crusty\" to create a humorous connection between the pizza\\'s emotional state and its physical properties. The phrase \"feeling a little crusty\" is a clever play on words that bridges the gap between the pizza\\'s mood and its crust, creating a lighthearted and amusing effect. The \"(get it?)\" at the end of the joke is a nod to the wordplay, acknowledging the clever use of language and inviting the listener to appreciate the cleverness of the joke.'}),)),\n",
       " StateSnapshot(values={'topic': 'pizza'}, next=('generate_joke',), config={'configurable': {'thread_id': '1', 'checkpoint_ns': '', 'checkpoint_id': '1f06e56f-66bf-60b6-8000-75740705f3f6'}}, metadata={'source': 'loop', 'writes': None, 'thread_id': '1', 'step': 0, 'parents': {}}, created_at='2025-07-31T21:40:22.899730+00:00', parent_config={'configurable': {'thread_id': '1', 'checkpoint_ns': '', 'checkpoint_id': '1f06e56f-66b7-6ad2-bfff-3ed4d56d714b'}}, tasks=(PregelTask(id='83418412-f856-f280-de40-dd2aed66ecfe', name='generate_joke', path=('__pregel_pull', 'generate_joke'), error=None, interrupts=(), state=None, result={'joke': 'Why was the pizza in a bad mood?\\n\\nBecause it was feeling a little crusty! (get it?)'}),)),\n",
       " StateSnapshot(values={}, next=('__start__',), config={'configurable': {'thread_id': '1', 'checkpoint_ns': '', 'checkpoint_id': '1f06e56f-66b7-6ad2-bfff-3ed4d56d714b'}}, metadata={'source': 'input', 'writes': {'__start__': {'topic': 'pizza'}}, 'thread_id': '1', 'step': -1, 'parents': {}}, created_at='2025-07-31T21:40:22.896712+00:00', parent_config=None, tasks=(PregelTask(id='4e35dce4-ac47-1364-79f3-68c39ff361ac', name='__start__', path=('__pregel_pull', '__start__'), error=None, interrupts=(), state=None, result={'topic': 'pizza'}),))]"
      ]
     },
     "execution_count": 28,
     "metadata": {},
     "output_type": "execute_result"
    }
   ],
   "source": [
    "list(workflow.get_state_history(config1))"
   ]
  },
  {
   "cell_type": "code",
   "execution_count": 29,
   "id": "0addb3f3",
   "metadata": {},
   "outputs": [
    {
     "data": {
      "text/plain": [
       "{'configurable': {'thread_id': '1',\n",
       "  'checkpoint_ns': '',\n",
       "  'checkpoint_id': '1f06e591-188b-6ea2-8000-c15669419e53'}}"
      ]
     },
     "execution_count": 29,
     "metadata": {},
     "output_type": "execute_result"
    }
   ],
   "source": [
    "workflow.update_state({\"configurable\": {\"thread_id\": \"1\", \"checkpoint_id\": \"1f06e56f-66b7-6ad2-bfff-3ed4d56d714b\", \"checkpoint_ns\": \"\"}}, {'topic':'samosa'})"
   ]
  },
  {
   "cell_type": "code",
   "execution_count": 30,
   "id": "f2a73dab",
   "metadata": {},
   "outputs": [
    {
     "data": {
      "text/plain": [
       "[StateSnapshot(values={'topic': 'samosa'}, next=('generate_joke',), config={'configurable': {'thread_id': '1', 'checkpoint_ns': '', 'checkpoint_id': '1f06e591-188b-6ea2-8000-c15669419e53'}}, metadata={'source': 'update', 'writes': {'__start__': {'topic': 'samosa'}}, 'thread_id': '1', 'step': 0, 'parents': {}, 'checkpoint_id': '1f06e56f-66b7-6ad2-bfff-3ed4d56d714b', 'checkpoint_ns': ''}, created_at='2025-07-31T21:55:27.380445+00:00', parent_config={'configurable': {'thread_id': '1', 'checkpoint_ns': '', 'checkpoint_id': '1f06e56f-66b7-6ad2-bfff-3ed4d56d714b'}}, tasks=(PregelTask(id='35c81b94-38dc-1f6b-5ec9-dab9d13a8ad1', name='generate_joke', path=('__pregel_pull', 'generate_joke'), error=None, interrupts=(), state=None, result=None),)),\n",
       " StateSnapshot(values={'topic': 'pizza', 'joke': 'Why was the pizza in a bad mood?\\n\\nBecause it was feeling a little crusty! (get it?)', 'explanation': 'A classic play on words. This joke relies on a pun to create humor. Here\\'s a breakdown of how it works:\\n\\nThe joke starts by setting up a situation where a pizza is in a bad mood, which is an unexpected and anthropomorphic concept, as pizzas are inanimate objects and can\\'t actually have emotions. The listener is then prompted to wonder why the pizza might be in a bad mood.\\n\\nThe punchline, \"Because it was feeling a little crusty!\" is where the wordplay comes in. \"Crusty\" has a double meaning here:\\n\\n1. In terms of personality, \"crusty\" can describe someone who is irritable, gruff, or short-tempered. So, in this context, the pizza is \"feeling a little crusty\" because it\\'s in a bad mood.\\n2. However, \"crusty\" also refers to the outer layer of a pizza, which is crispy and crunchy. This is a clever play on words, as the joke is making a connection between the pizza\\'s emotional state and its physical characteristics.\\n\\nThe humor comes from the unexpected twist on the word \"crusty\" and the clever connection between the pizza\\'s mood and its crust. The joke requires a quick mental shift to understand the wordplay, and the surprise and cleverness of the pun create the comedic effect.'}, next=(), config={'configurable': {'thread_id': '1', 'checkpoint_ns': '', 'checkpoint_id': '1f06e58e-2652-649e-8002-7044f625aed1'}}, metadata={'source': 'loop', 'writes': {'generate_explanation': {'explanation': 'A classic play on words. This joke relies on a pun to create humor. Here\\'s a breakdown of how it works:\\n\\nThe joke starts by setting up a situation where a pizza is in a bad mood, which is an unexpected and anthropomorphic concept, as pizzas are inanimate objects and can\\'t actually have emotions. The listener is then prompted to wonder why the pizza might be in a bad mood.\\n\\nThe punchline, \"Because it was feeling a little crusty!\" is where the wordplay comes in. \"Crusty\" has a double meaning here:\\n\\n1. In terms of personality, \"crusty\" can describe someone who is irritable, gruff, or short-tempered. So, in this context, the pizza is \"feeling a little crusty\" because it\\'s in a bad mood.\\n2. However, \"crusty\" also refers to the outer layer of a pizza, which is crispy and crunchy. This is a clever play on words, as the joke is making a connection between the pizza\\'s emotional state and its physical characteristics.\\n\\nThe humor comes from the unexpected twist on the word \"crusty\" and the clever connection between the pizza\\'s mood and its crust. The joke requires a quick mental shift to understand the wordplay, and the surprise and cleverness of the pun create the comedic effect.'}}, 'thread_id': '1', 'checkpoint_id': '1f06e56f-66bf-60b6-8000-75740705f3f6', 'step': 2, 'parents': {}}, created_at='2025-07-31T21:54:08.294211+00:00', parent_config={'configurable': {'thread_id': '1', 'checkpoint_ns': '', 'checkpoint_id': '1f06e58e-1ecc-60ab-8001-1f38ab6e98a8'}}, tasks=()),\n",
       " StateSnapshot(values={'topic': 'pizza', 'joke': 'Why was the pizza in a bad mood?\\n\\nBecause it was feeling a little crusty! (get it?)'}, next=('generate_explanation',), config={'configurable': {'thread_id': '1', 'checkpoint_ns': '', 'checkpoint_id': '1f06e58e-1ecc-60ab-8001-1f38ab6e98a8'}}, metadata={'source': 'loop', 'writes': {'generate_joke': {'joke': 'Why was the pizza in a bad mood?\\n\\nBecause it was feeling a little crusty! (get it?)'}}, 'thread_id': '1', 'checkpoint_id': '1f06e56f-66bf-60b6-8000-75740705f3f6', 'step': 1, 'parents': {}}, created_at='2025-07-31T21:54:07.505220+00:00', parent_config={'configurable': {'thread_id': '1', 'checkpoint_ns': '', 'checkpoint_id': '1f06e56f-66bf-60b6-8000-75740705f3f6'}}, tasks=(PregelTask(id='cf87c995-9acd-2ecc-19ca-c0e55021eb7a', name='generate_explanation', path=('__pregel_pull', 'generate_explanation'), error=None, interrupts=(), state=None, result={'explanation': 'A classic play on words. This joke relies on a pun to create humor. Here\\'s a breakdown of how it works:\\n\\nThe joke starts by setting up a situation where a pizza is in a bad mood, which is an unexpected and anthropomorphic concept, as pizzas are inanimate objects and can\\'t actually have emotions. The listener is then prompted to wonder why the pizza might be in a bad mood.\\n\\nThe punchline, \"Because it was feeling a little crusty!\" is where the wordplay comes in. \"Crusty\" has a double meaning here:\\n\\n1. In terms of personality, \"crusty\" can describe someone who is irritable, gruff, or short-tempered. So, in this context, the pizza is \"feeling a little crusty\" because it\\'s in a bad mood.\\n2. However, \"crusty\" also refers to the outer layer of a pizza, which is crispy and crunchy. This is a clever play on words, as the joke is making a connection between the pizza\\'s emotional state and its physical characteristics.\\n\\nThe humor comes from the unexpected twist on the word \"crusty\" and the clever connection between the pizza\\'s mood and its crust. The joke requires a quick mental shift to understand the wordplay, and the surprise and cleverness of the pun create the comedic effect.'}),)),\n",
       " StateSnapshot(values={'topic': 'pizza', 'joke': 'Why was the pizza in a bad mood?\\n\\nBecause it was feeling a little crusty! (get it?)', 'explanation': 'The joke relies on a play on words to create humor. The setup \"Why was the pizza in a bad mood?\" primes the listener to expect a reason related to the pizza\\'s emotional state. The punchline \"Because it was feeling a little crusty!\" subverts this expectation by using the word \"crusty\" in a double sense.\\n\\nIn one sense, \"crusty\" can describe someone or something that is irritable, gruff, or in a bad mood. However, in the context of a pizza, \"crusty\" also refers to the crispy, golden-brown edge of the pizza, which is a defining characteristic of the food.\\n\\nThe joke exploits this dual meaning of \"crusty\" to create a humorous connection between the pizza\\'s emotional state and its physical properties. The phrase \"feeling a little crusty\" is a clever play on words that bridges the gap between the pizza\\'s mood and its crust, creating a lighthearted and amusing effect. The \"(get it?)\" at the end of the joke is a nod to the wordplay, acknowledging the clever use of language and inviting the listener to appreciate the cleverness of the joke.'}, next=(), config={'configurable': {'thread_id': '1', 'checkpoint_ns': '', 'checkpoint_id': '1f06e56f-718b-69eb-8002-93449a5c1812'}}, metadata={'source': 'loop', 'writes': {'generate_explanation': {'explanation': 'The joke relies on a play on words to create humor. The setup \"Why was the pizza in a bad mood?\" primes the listener to expect a reason related to the pizza\\'s emotional state. The punchline \"Because it was feeling a little crusty!\" subverts this expectation by using the word \"crusty\" in a double sense.\\n\\nIn one sense, \"crusty\" can describe someone or something that is irritable, gruff, or in a bad mood. However, in the context of a pizza, \"crusty\" also refers to the crispy, golden-brown edge of the pizza, which is a defining characteristic of the food.\\n\\nThe joke exploits this dual meaning of \"crusty\" to create a humorous connection between the pizza\\'s emotional state and its physical properties. The phrase \"feeling a little crusty\" is a clever play on words that bridges the gap between the pizza\\'s mood and its crust, creating a lighthearted and amusing effect. The \"(get it?)\" at the end of the joke is a nod to the wordplay, acknowledging the clever use of language and inviting the listener to appreciate the cleverness of the joke.'}}, 'thread_id': '1', 'step': 2, 'parents': {}}, created_at='2025-07-31T21:40:24.032100+00:00', parent_config={'configurable': {'thread_id': '1', 'checkpoint_ns': '', 'checkpoint_id': '1f06e56f-69c1-6092-8001-2ce7fbbac545'}}, tasks=()),\n",
       " StateSnapshot(values={'topic': 'pizza', 'joke': 'Why was the pizza in a bad mood?\\n\\nBecause it was feeling a little crusty! (get it?)'}, next=('generate_explanation',), config={'configurable': {'thread_id': '1', 'checkpoint_ns': '', 'checkpoint_id': '1f06e56f-69c1-6092-8001-2ce7fbbac545'}}, metadata={'source': 'loop', 'writes': {'generate_joke': {'joke': 'Why was the pizza in a bad mood?\\n\\nBecause it was feeling a little crusty! (get it?)'}}, 'thread_id': '1', 'step': 1, 'parents': {}}, created_at='2025-07-31T21:40:23.215118+00:00', parent_config={'configurable': {'thread_id': '1', 'checkpoint_ns': '', 'checkpoint_id': '1f06e56f-66bf-60b6-8000-75740705f3f6'}}, tasks=(PregelTask(id='629993c6-8200-9b7f-4a89-e4077b653af9', name='generate_explanation', path=('__pregel_pull', 'generate_explanation'), error=None, interrupts=(), state=None, result={'explanation': 'The joke relies on a play on words to create humor. The setup \"Why was the pizza in a bad mood?\" primes the listener to expect a reason related to the pizza\\'s emotional state. The punchline \"Because it was feeling a little crusty!\" subverts this expectation by using the word \"crusty\" in a double sense.\\n\\nIn one sense, \"crusty\" can describe someone or something that is irritable, gruff, or in a bad mood. However, in the context of a pizza, \"crusty\" also refers to the crispy, golden-brown edge of the pizza, which is a defining characteristic of the food.\\n\\nThe joke exploits this dual meaning of \"crusty\" to create a humorous connection between the pizza\\'s emotional state and its physical properties. The phrase \"feeling a little crusty\" is a clever play on words that bridges the gap between the pizza\\'s mood and its crust, creating a lighthearted and amusing effect. The \"(get it?)\" at the end of the joke is a nod to the wordplay, acknowledging the clever use of language and inviting the listener to appreciate the cleverness of the joke.'}),)),\n",
       " StateSnapshot(values={'topic': 'pizza'}, next=('generate_joke',), config={'configurable': {'thread_id': '1', 'checkpoint_ns': '', 'checkpoint_id': '1f06e56f-66bf-60b6-8000-75740705f3f6'}}, metadata={'source': 'loop', 'writes': None, 'thread_id': '1', 'step': 0, 'parents': {}}, created_at='2025-07-31T21:40:22.899730+00:00', parent_config={'configurable': {'thread_id': '1', 'checkpoint_ns': '', 'checkpoint_id': '1f06e56f-66b7-6ad2-bfff-3ed4d56d714b'}}, tasks=(PregelTask(id='83418412-f856-f280-de40-dd2aed66ecfe', name='generate_joke', path=('__pregel_pull', 'generate_joke'), error=None, interrupts=(), state=None, result={'joke': 'Why was the pizza in a bad mood?\\n\\nBecause it was feeling a little crusty! (get it?)'}),)),\n",
       " StateSnapshot(values={}, next=('__start__',), config={'configurable': {'thread_id': '1', 'checkpoint_ns': '', 'checkpoint_id': '1f06e56f-66b7-6ad2-bfff-3ed4d56d714b'}}, metadata={'source': 'input', 'writes': {'__start__': {'topic': 'pizza'}}, 'thread_id': '1', 'step': -1, 'parents': {}}, created_at='2025-07-31T21:40:22.896712+00:00', parent_config=None, tasks=(PregelTask(id='4e35dce4-ac47-1364-79f3-68c39ff361ac', name='__start__', path=('__pregel_pull', '__start__'), error=None, interrupts=(), state=None, result={'topic': 'pizza'}),))]"
      ]
     },
     "execution_count": 30,
     "metadata": {},
     "output_type": "execute_result"
    }
   ],
   "source": [
    "list(workflow.get_state_history(config1))"
   ]
  },
  {
   "cell_type": "code",
   "execution_count": 31,
   "id": "c0b03e7d",
   "metadata": {},
   "outputs": [
    {
     "data": {
      "text/plain": [
       "{'topic': 'samosa',\n",
       " 'joke': 'Why did the samosa go to therapy?\\n\\nBecause it was feeling a little \"crusty\" and had a lot of \"filling\" emotional issues to work through! (get it?)',\n",
       " 'explanation': 'A deliciously clever joke. Let\\'s break it down:\\n\\nThe joke is a play on words, using the characteristics of a samosa (a type of savory pastry) to create a pun. Here\\'s how it works:\\n\\n1. **\"Crusty\"**: A samosa typically has a crispy, crusty exterior. In this joke, the word \"crusty\" is used to describe the samosa\\'s emotional state, implying that it\\'s feeling a little rough or hardened on the outside. However, \"crusty\" can also mean being irritable or gruff, which is a common reason for someone (or in this case, a samosa) to seek therapy.\\n2. **\"Filling\" emotional issues**: A samosa is typically filled with a variety of ingredients, such as spiced potatoes, peas, or onions. In this joke, the word \"filling\" is used to describe the samosa\\'s emotional problems, implying that it has a lot of inner issues to work through. The phrase \"filling emotional issues\" is a clever play on words, as it references both the physical filling of a samosa and the emotional baggage that the samosa is carrying.\\n\\nThe punchline relies on the double meaning of these words to create a humorous connection between the samosa\\'s physical characteristics and its emotional state. The joke requires a quick mental shift to understand the wordplay, which creates the comedic effect.\\n\\nOverall, the joke is a lighthearted and clever way to poke fun at the idea of therapy and emotional issues, using a relatable and beloved food item like the samosa as the protagonist.'}"
      ]
     },
     "execution_count": 31,
     "metadata": {},
     "output_type": "execute_result"
    }
   ],
   "source": [
    "workflow.invoke(None, {\"configurable\": {\"thread_id\": \"1\", \"checkpoint_id\": \"1f06e591-188b-6ea2-8000-c15669419e53\"}})"
   ]
  },
  {
   "cell_type": "code",
   "execution_count": 32,
   "id": "363c2e1a",
   "metadata": {},
   "outputs": [
    {
     "data": {
      "text/plain": [
       "[StateSnapshot(values={'topic': 'samosa', 'joke': 'Why did the samosa go to therapy?\\n\\nBecause it was feeling a little \"crusty\" and had a lot of \"filling\" emotional issues to work through! (get it?)', 'explanation': 'A deliciously clever joke. Let\\'s break it down:\\n\\nThe joke is a play on words, using the characteristics of a samosa (a type of savory pastry) to create a pun. Here\\'s how it works:\\n\\n1. **\"Crusty\"**: A samosa typically has a crispy, crusty exterior. In this joke, the word \"crusty\" is used to describe the samosa\\'s emotional state, implying that it\\'s feeling a little rough or hardened on the outside. However, \"crusty\" can also mean being irritable or gruff, which is a common reason for someone (or in this case, a samosa) to seek therapy.\\n2. **\"Filling\" emotional issues**: A samosa is typically filled with a variety of ingredients, such as spiced potatoes, peas, or onions. In this joke, the word \"filling\" is used to describe the samosa\\'s emotional problems, implying that it has a lot of inner issues to work through. The phrase \"filling emotional issues\" is a clever play on words, as it references both the physical filling of a samosa and the emotional baggage that the samosa is carrying.\\n\\nThe punchline relies on the double meaning of these words to create a humorous connection between the samosa\\'s physical characteristics and its emotional state. The joke requires a quick mental shift to understand the wordplay, which creates the comedic effect.\\n\\nOverall, the joke is a lighthearted and clever way to poke fun at the idea of therapy and emotional issues, using a relatable and beloved food item like the samosa as the protagonist.'}, next=(), config={'configurable': {'thread_id': '1', 'checkpoint_ns': '', 'checkpoint_id': '1f06e593-27cc-69d4-8002-149876cc655a'}}, metadata={'source': 'loop', 'writes': {'generate_explanation': {'explanation': 'A deliciously clever joke. Let\\'s break it down:\\n\\nThe joke is a play on words, using the characteristics of a samosa (a type of savory pastry) to create a pun. Here\\'s how it works:\\n\\n1. **\"Crusty\"**: A samosa typically has a crispy, crusty exterior. In this joke, the word \"crusty\" is used to describe the samosa\\'s emotional state, implying that it\\'s feeling a little rough or hardened on the outside. However, \"crusty\" can also mean being irritable or gruff, which is a common reason for someone (or in this case, a samosa) to seek therapy.\\n2. **\"Filling\" emotional issues**: A samosa is typically filled with a variety of ingredients, such as spiced potatoes, peas, or onions. In this joke, the word \"filling\" is used to describe the samosa\\'s emotional problems, implying that it has a lot of inner issues to work through. The phrase \"filling emotional issues\" is a clever play on words, as it references both the physical filling of a samosa and the emotional baggage that the samosa is carrying.\\n\\nThe punchline relies on the double meaning of these words to create a humorous connection between the samosa\\'s physical characteristics and its emotional state. The joke requires a quick mental shift to understand the wordplay, which creates the comedic effect.\\n\\nOverall, the joke is a lighthearted and clever way to poke fun at the idea of therapy and emotional issues, using a relatable and beloved food item like the samosa as the protagonist.'}}, 'thread_id': '1', 'checkpoint_id': '1f06e591-188b-6ea2-8000-c15669419e53', 'step': 2, 'parents': {}}, created_at='2025-07-31T21:56:22.666901+00:00', parent_config={'configurable': {'thread_id': '1', 'checkpoint_ns': '', 'checkpoint_id': '1f06e593-1e98-69ab-8001-161b1c26029a'}}, tasks=()),\n",
       " StateSnapshot(values={'topic': 'samosa', 'joke': 'Why did the samosa go to therapy?\\n\\nBecause it was feeling a little \"crusty\" and had a lot of \"filling\" emotional issues to work through! (get it?)'}, next=('generate_explanation',), config={'configurable': {'thread_id': '1', 'checkpoint_ns': '', 'checkpoint_id': '1f06e593-1e98-69ab-8001-161b1c26029a'}}, metadata={'source': 'loop', 'writes': {'generate_joke': {'joke': 'Why did the samosa go to therapy?\\n\\nBecause it was feeling a little \"crusty\" and had a lot of \"filling\" emotional issues to work through! (get it?)'}}, 'thread_id': '1', 'checkpoint_id': '1f06e591-188b-6ea2-8000-c15669419e53', 'step': 1, 'parents': {}}, created_at='2025-07-31T21:56:21.701879+00:00', parent_config={'configurable': {'thread_id': '1', 'checkpoint_ns': '', 'checkpoint_id': '1f06e591-188b-6ea2-8000-c15669419e53'}}, tasks=(PregelTask(id='22be6f10-2f39-a207-7917-0f8d58a3b101', name='generate_explanation', path=('__pregel_pull', 'generate_explanation'), error=None, interrupts=(), state=None, result={'explanation': 'A deliciously clever joke. Let\\'s break it down:\\n\\nThe joke is a play on words, using the characteristics of a samosa (a type of savory pastry) to create a pun. Here\\'s how it works:\\n\\n1. **\"Crusty\"**: A samosa typically has a crispy, crusty exterior. In this joke, the word \"crusty\" is used to describe the samosa\\'s emotional state, implying that it\\'s feeling a little rough or hardened on the outside. However, \"crusty\" can also mean being irritable or gruff, which is a common reason for someone (or in this case, a samosa) to seek therapy.\\n2. **\"Filling\" emotional issues**: A samosa is typically filled with a variety of ingredients, such as spiced potatoes, peas, or onions. In this joke, the word \"filling\" is used to describe the samosa\\'s emotional problems, implying that it has a lot of inner issues to work through. The phrase \"filling emotional issues\" is a clever play on words, as it references both the physical filling of a samosa and the emotional baggage that the samosa is carrying.\\n\\nThe punchline relies on the double meaning of these words to create a humorous connection between the samosa\\'s physical characteristics and its emotional state. The joke requires a quick mental shift to understand the wordplay, which creates the comedic effect.\\n\\nOverall, the joke is a lighthearted and clever way to poke fun at the idea of therapy and emotional issues, using a relatable and beloved food item like the samosa as the protagonist.'}),)),\n",
       " StateSnapshot(values={'topic': 'samosa'}, next=('generate_joke',), config={'configurable': {'thread_id': '1', 'checkpoint_ns': '', 'checkpoint_id': '1f06e591-188b-6ea2-8000-c15669419e53'}}, metadata={'source': 'update', 'writes': {'__start__': {'topic': 'samosa'}}, 'thread_id': '1', 'step': 0, 'parents': {}, 'checkpoint_id': '1f06e56f-66b7-6ad2-bfff-3ed4d56d714b', 'checkpoint_ns': ''}, created_at='2025-07-31T21:55:27.380445+00:00', parent_config={'configurable': {'thread_id': '1', 'checkpoint_ns': '', 'checkpoint_id': '1f06e56f-66b7-6ad2-bfff-3ed4d56d714b'}}, tasks=(PregelTask(id='35c81b94-38dc-1f6b-5ec9-dab9d13a8ad1', name='generate_joke', path=('__pregel_pull', 'generate_joke'), error=None, interrupts=(), state=None, result={'joke': 'Why did the samosa go to therapy?\\n\\nBecause it was feeling a little \"crusty\" and had a lot of \"filling\" emotional issues to work through! (get it?)'}),)),\n",
       " StateSnapshot(values={'topic': 'pizza', 'joke': 'Why was the pizza in a bad mood?\\n\\nBecause it was feeling a little crusty! (get it?)', 'explanation': 'A classic play on words. This joke relies on a pun to create humor. Here\\'s a breakdown of how it works:\\n\\nThe joke starts by setting up a situation where a pizza is in a bad mood, which is an unexpected and anthropomorphic concept, as pizzas are inanimate objects and can\\'t actually have emotions. The listener is then prompted to wonder why the pizza might be in a bad mood.\\n\\nThe punchline, \"Because it was feeling a little crusty!\" is where the wordplay comes in. \"Crusty\" has a double meaning here:\\n\\n1. In terms of personality, \"crusty\" can describe someone who is irritable, gruff, or short-tempered. So, in this context, the pizza is \"feeling a little crusty\" because it\\'s in a bad mood.\\n2. However, \"crusty\" also refers to the outer layer of a pizza, which is crispy and crunchy. This is a clever play on words, as the joke is making a connection between the pizza\\'s emotional state and its physical characteristics.\\n\\nThe humor comes from the unexpected twist on the word \"crusty\" and the clever connection between the pizza\\'s mood and its crust. The joke requires a quick mental shift to understand the wordplay, and the surprise and cleverness of the pun create the comedic effect.'}, next=(), config={'configurable': {'thread_id': '1', 'checkpoint_ns': '', 'checkpoint_id': '1f06e58e-2652-649e-8002-7044f625aed1'}}, metadata={'source': 'loop', 'writes': {'generate_explanation': {'explanation': 'A classic play on words. This joke relies on a pun to create humor. Here\\'s a breakdown of how it works:\\n\\nThe joke starts by setting up a situation where a pizza is in a bad mood, which is an unexpected and anthropomorphic concept, as pizzas are inanimate objects and can\\'t actually have emotions. The listener is then prompted to wonder why the pizza might be in a bad mood.\\n\\nThe punchline, \"Because it was feeling a little crusty!\" is where the wordplay comes in. \"Crusty\" has a double meaning here:\\n\\n1. In terms of personality, \"crusty\" can describe someone who is irritable, gruff, or short-tempered. So, in this context, the pizza is \"feeling a little crusty\" because it\\'s in a bad mood.\\n2. However, \"crusty\" also refers to the outer layer of a pizza, which is crispy and crunchy. This is a clever play on words, as the joke is making a connection between the pizza\\'s emotional state and its physical characteristics.\\n\\nThe humor comes from the unexpected twist on the word \"crusty\" and the clever connection between the pizza\\'s mood and its crust. The joke requires a quick mental shift to understand the wordplay, and the surprise and cleverness of the pun create the comedic effect.'}}, 'thread_id': '1', 'checkpoint_id': '1f06e56f-66bf-60b6-8000-75740705f3f6', 'step': 2, 'parents': {}}, created_at='2025-07-31T21:54:08.294211+00:00', parent_config={'configurable': {'thread_id': '1', 'checkpoint_ns': '', 'checkpoint_id': '1f06e58e-1ecc-60ab-8001-1f38ab6e98a8'}}, tasks=()),\n",
       " StateSnapshot(values={'topic': 'pizza', 'joke': 'Why was the pizza in a bad mood?\\n\\nBecause it was feeling a little crusty! (get it?)'}, next=('generate_explanation',), config={'configurable': {'thread_id': '1', 'checkpoint_ns': '', 'checkpoint_id': '1f06e58e-1ecc-60ab-8001-1f38ab6e98a8'}}, metadata={'source': 'loop', 'writes': {'generate_joke': {'joke': 'Why was the pizza in a bad mood?\\n\\nBecause it was feeling a little crusty! (get it?)'}}, 'thread_id': '1', 'checkpoint_id': '1f06e56f-66bf-60b6-8000-75740705f3f6', 'step': 1, 'parents': {}}, created_at='2025-07-31T21:54:07.505220+00:00', parent_config={'configurable': {'thread_id': '1', 'checkpoint_ns': '', 'checkpoint_id': '1f06e56f-66bf-60b6-8000-75740705f3f6'}}, tasks=(PregelTask(id='cf87c995-9acd-2ecc-19ca-c0e55021eb7a', name='generate_explanation', path=('__pregel_pull', 'generate_explanation'), error=None, interrupts=(), state=None, result={'explanation': 'A classic play on words. This joke relies on a pun to create humor. Here\\'s a breakdown of how it works:\\n\\nThe joke starts by setting up a situation where a pizza is in a bad mood, which is an unexpected and anthropomorphic concept, as pizzas are inanimate objects and can\\'t actually have emotions. The listener is then prompted to wonder why the pizza might be in a bad mood.\\n\\nThe punchline, \"Because it was feeling a little crusty!\" is where the wordplay comes in. \"Crusty\" has a double meaning here:\\n\\n1. In terms of personality, \"crusty\" can describe someone who is irritable, gruff, or short-tempered. So, in this context, the pizza is \"feeling a little crusty\" because it\\'s in a bad mood.\\n2. However, \"crusty\" also refers to the outer layer of a pizza, which is crispy and crunchy. This is a clever play on words, as the joke is making a connection between the pizza\\'s emotional state and its physical characteristics.\\n\\nThe humor comes from the unexpected twist on the word \"crusty\" and the clever connection between the pizza\\'s mood and its crust. The joke requires a quick mental shift to understand the wordplay, and the surprise and cleverness of the pun create the comedic effect.'}),)),\n",
       " StateSnapshot(values={'topic': 'pizza', 'joke': 'Why was the pizza in a bad mood?\\n\\nBecause it was feeling a little crusty! (get it?)', 'explanation': 'The joke relies on a play on words to create humor. The setup \"Why was the pizza in a bad mood?\" primes the listener to expect a reason related to the pizza\\'s emotional state. The punchline \"Because it was feeling a little crusty!\" subverts this expectation by using the word \"crusty\" in a double sense.\\n\\nIn one sense, \"crusty\" can describe someone or something that is irritable, gruff, or in a bad mood. However, in the context of a pizza, \"crusty\" also refers to the crispy, golden-brown edge of the pizza, which is a defining characteristic of the food.\\n\\nThe joke exploits this dual meaning of \"crusty\" to create a humorous connection between the pizza\\'s emotional state and its physical properties. The phrase \"feeling a little crusty\" is a clever play on words that bridges the gap between the pizza\\'s mood and its crust, creating a lighthearted and amusing effect. The \"(get it?)\" at the end of the joke is a nod to the wordplay, acknowledging the clever use of language and inviting the listener to appreciate the cleverness of the joke.'}, next=(), config={'configurable': {'thread_id': '1', 'checkpoint_ns': '', 'checkpoint_id': '1f06e56f-718b-69eb-8002-93449a5c1812'}}, metadata={'source': 'loop', 'writes': {'generate_explanation': {'explanation': 'The joke relies on a play on words to create humor. The setup \"Why was the pizza in a bad mood?\" primes the listener to expect a reason related to the pizza\\'s emotional state. The punchline \"Because it was feeling a little crusty!\" subverts this expectation by using the word \"crusty\" in a double sense.\\n\\nIn one sense, \"crusty\" can describe someone or something that is irritable, gruff, or in a bad mood. However, in the context of a pizza, \"crusty\" also refers to the crispy, golden-brown edge of the pizza, which is a defining characteristic of the food.\\n\\nThe joke exploits this dual meaning of \"crusty\" to create a humorous connection between the pizza\\'s emotional state and its physical properties. The phrase \"feeling a little crusty\" is a clever play on words that bridges the gap between the pizza\\'s mood and its crust, creating a lighthearted and amusing effect. The \"(get it?)\" at the end of the joke is a nod to the wordplay, acknowledging the clever use of language and inviting the listener to appreciate the cleverness of the joke.'}}, 'thread_id': '1', 'step': 2, 'parents': {}}, created_at='2025-07-31T21:40:24.032100+00:00', parent_config={'configurable': {'thread_id': '1', 'checkpoint_ns': '', 'checkpoint_id': '1f06e56f-69c1-6092-8001-2ce7fbbac545'}}, tasks=()),\n",
       " StateSnapshot(values={'topic': 'pizza', 'joke': 'Why was the pizza in a bad mood?\\n\\nBecause it was feeling a little crusty! (get it?)'}, next=('generate_explanation',), config={'configurable': {'thread_id': '1', 'checkpoint_ns': '', 'checkpoint_id': '1f06e56f-69c1-6092-8001-2ce7fbbac545'}}, metadata={'source': 'loop', 'writes': {'generate_joke': {'joke': 'Why was the pizza in a bad mood?\\n\\nBecause it was feeling a little crusty! (get it?)'}}, 'thread_id': '1', 'step': 1, 'parents': {}}, created_at='2025-07-31T21:40:23.215118+00:00', parent_config={'configurable': {'thread_id': '1', 'checkpoint_ns': '', 'checkpoint_id': '1f06e56f-66bf-60b6-8000-75740705f3f6'}}, tasks=(PregelTask(id='629993c6-8200-9b7f-4a89-e4077b653af9', name='generate_explanation', path=('__pregel_pull', 'generate_explanation'), error=None, interrupts=(), state=None, result={'explanation': 'The joke relies on a play on words to create humor. The setup \"Why was the pizza in a bad mood?\" primes the listener to expect a reason related to the pizza\\'s emotional state. The punchline \"Because it was feeling a little crusty!\" subverts this expectation by using the word \"crusty\" in a double sense.\\n\\nIn one sense, \"crusty\" can describe someone or something that is irritable, gruff, or in a bad mood. However, in the context of a pizza, \"crusty\" also refers to the crispy, golden-brown edge of the pizza, which is a defining characteristic of the food.\\n\\nThe joke exploits this dual meaning of \"crusty\" to create a humorous connection between the pizza\\'s emotional state and its physical properties. The phrase \"feeling a little crusty\" is a clever play on words that bridges the gap between the pizza\\'s mood and its crust, creating a lighthearted and amusing effect. The \"(get it?)\" at the end of the joke is a nod to the wordplay, acknowledging the clever use of language and inviting the listener to appreciate the cleverness of the joke.'}),)),\n",
       " StateSnapshot(values={'topic': 'pizza'}, next=('generate_joke',), config={'configurable': {'thread_id': '1', 'checkpoint_ns': '', 'checkpoint_id': '1f06e56f-66bf-60b6-8000-75740705f3f6'}}, metadata={'source': 'loop', 'writes': None, 'thread_id': '1', 'step': 0, 'parents': {}}, created_at='2025-07-31T21:40:22.899730+00:00', parent_config={'configurable': {'thread_id': '1', 'checkpoint_ns': '', 'checkpoint_id': '1f06e56f-66b7-6ad2-bfff-3ed4d56d714b'}}, tasks=(PregelTask(id='83418412-f856-f280-de40-dd2aed66ecfe', name='generate_joke', path=('__pregel_pull', 'generate_joke'), error=None, interrupts=(), state=None, result={'joke': 'Why was the pizza in a bad mood?\\n\\nBecause it was feeling a little crusty! (get it?)'}),)),\n",
       " StateSnapshot(values={}, next=('__start__',), config={'configurable': {'thread_id': '1', 'checkpoint_ns': '', 'checkpoint_id': '1f06e56f-66b7-6ad2-bfff-3ed4d56d714b'}}, metadata={'source': 'input', 'writes': {'__start__': {'topic': 'pizza'}}, 'thread_id': '1', 'step': -1, 'parents': {}}, created_at='2025-07-31T21:40:22.896712+00:00', parent_config=None, tasks=(PregelTask(id='4e35dce4-ac47-1364-79f3-68c39ff361ac', name='__start__', path=('__pregel_pull', '__start__'), error=None, interrupts=(), state=None, result={'topic': 'pizza'}),))]"
      ]
     },
     "execution_count": 32,
     "metadata": {},
     "output_type": "execute_result"
    }
   ],
   "source": [
    "list(workflow.get_state_history(config1))"
   ]
  },
  {
   "cell_type": "code",
   "execution_count": null,
   "id": "9be492c9",
   "metadata": {},
   "outputs": [],
   "source": [
    "#done."
   ]
  }
 ],
 "metadata": {
  "kernelspec": {
   "display_name": "Python 3",
   "language": "python",
   "name": "python3"
  },
  "language_info": {
   "codemirror_mode": {
    "name": "ipython",
    "version": 3
   },
   "file_extension": ".py",
   "mimetype": "text/x-python",
   "name": "python",
   "nbconvert_exporter": "python",
   "pygments_lexer": "ipython3",
   "version": "3.12.0"
  }
 },
 "nbformat": 4,
 "nbformat_minor": 5
}
